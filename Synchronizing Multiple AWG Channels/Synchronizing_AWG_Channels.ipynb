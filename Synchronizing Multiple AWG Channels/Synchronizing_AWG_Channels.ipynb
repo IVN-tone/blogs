{
 "cells": [
  {
   "cell_type": "markdown",
   "metadata": {},
   "source": [
    "# Synchronization of multiple AWG output channels\n",
    "This script implements the basic example as described in the corresponding [blog post](https://www.zhinst.com/blogs/synchronizing-multiple-awg-channels).\n",
    "\n",
    "Copyright (C) 2022 Zurich Instruments\n",
    "\n",
    "This software may be modified and distributed under the terms of the MIT license. See the LICENSE file for details."
   ]
  },
  {
   "cell_type": "markdown",
   "metadata": {},
   "source": [
    "### Imports and connection to instrument"
   ]
  },
  {
   "cell_type": "code",
   "execution_count": 1,
   "metadata": {},
   "outputs": [],
   "source": [
    "from zhinst.toolkit import Session, Sequence\n",
    "import copy"
   ]
  },
  {
   "cell_type": "code",
   "execution_count": 2,
   "metadata": {},
   "outputs": [],
   "source": [
    "dev_id = 'dev8000'  # Instrument serial number\n",
    "host = 'localhost'  # Host server IP address\n",
    "\n",
    "DRIVE_CORE = 0      # The AWG core that generate drive pulses\n",
    "GATE_CORE = 1       # The AWG core that generate gate pulses"
   ]
  },
  {
   "cell_type": "code",
   "execution_count": 3,
   "metadata": {},
   "outputs": [],
   "source": [
    "session = Session(host)                     # Create a Session (connection to data server)\n",
    "device = session.connect_device(dev_id)     # Connect to instrument\n",
    "\n",
    "awg_drive = device.awgs[DRIVE_CORE]\n",
    "awg_gate = device.awgs[GATE_CORE]"
   ]
  },
  {
   "cell_type": "markdown",
   "metadata": {},
   "source": [
    "### Basic channel configuration"
   ]
  },
  {
   "cell_type": "code",
   "execution_count": 4,
   "metadata": {},
   "outputs": [],
   "source": [
    "# use transactional set to configure multiple settings\n",
    "with device.set_transaction():\n",
    "    device.system.awg.channelgrouping(0)    # work in non-grouped mode (individual AWG cores)\n",
    "\n",
    "    device.sigouts[\"*\"].on(True)    # Switch on the outputs\n",
    "    device.sigouts[\"*\"].range(1)    # Set output voltage range\n",
    "    device.awgs[\"*\"].single(True)   # Disable 'Rerun' of AWG sequencer\n",
    "    device.oscs[0].freq(111e6)      # Modulation frequency for drive pulse\n",
    "    device.sines[0].phaseshift(90)  # Sine generator phase for IQ modulation\n",
    "    device.sines[1].phaseshift(0)   # Sine generator phase for IQ modulation\n",
    "\n",
    "    awg_drive.outputs[\"*\"].modulation.mode('mixer')    # Enable digital modulation for drive pulses\n",
    "    awg_gate.outputs[\"*\"].modulation.mode('off')       # Disable digital modulation for gate pulses\n",
    "\n",
    "    # coefficients of gain matrix for ideal mixer\n",
    "    awg_drive.outputs[0].gains[0](0.5)\n",
    "    awg_drive.outputs[0].gains[1](0.0)\n",
    "    awg_drive.outputs[1].gains[0](0.0)\n",
    "    awg_drive.outputs[1].gains[1](0.5)\n"
   ]
  },
  {
   "cell_type": "markdown",
   "metadata": {},
   "source": [
    "## Sequencer code for leader and follower AWG core"
   ]
  },
  {
   "cell_type": "code",
   "execution_count": 5,
   "metadata": {},
   "outputs": [],
   "source": [
    "# Sequencer program for leader AWG core\n",
    "seq_leader = Sequence()\n",
    "seq_leader.constants['LEN_SECTION'] = 1024\n",
    "seq_leader.constants['LEN_PULSE'] = 256\n",
    "\n",
    "seq_leader.code = \"\"\"\n",
    "wave w = gauss(LEN_PULSE, LEN_PULSE/2, LEN_PULSE/8);\n",
    "\n",
    "setDIO(1);  //Send trigger\n",
    "wait(5);\n",
    "setDIO(0);\n",
    "\n",
    "waitDIOTrigger();   //Wait for trigger\n",
    "\n",
    "//Waveform playback \n",
    "// initialization stage\n",
    "playZero(LEN_SECTION);\n",
    "// manipulation stage\n",
    "playZero(LEN_SECTION-LEN_PULSE);\n",
    "playWave(1,2,w);\n",
    "// readout stage\n",
    "playZero(LEN_SECTION);\n",
    "\"\"\"\n",
    "\n",
    "# Sequencer program for follower AWG core\n",
    "# copy the constants from the leader\n",
    "seq_follower = copy.copy(seq_leader)\n",
    "\n",
    "seq_follower.code = \"\"\"\n",
    "wave w = ones(LEN_SECTION);\n",
    "\n",
    "waitDIOTrigger();   //Wait for trigger\n",
    "\n",
    "//Waveform playback\n",
    "// initialization stage\n",
    "playWave(0.4*w, 0.4*w);\n",
    "// manipulation stage\n",
    "playWave(1.0*w, 1.0*w);\n",
    "// readout stage\n",
    "playWave(0.7*w, 0.7*w);\n",
    "\"\"\""
   ]
  },
  {
   "cell_type": "code",
   "execution_count": 6,
   "metadata": {},
   "outputs": [],
   "source": [
    "# upload sequencer programs to individual AWG cores\n",
    "with device.set_transaction():\n",
    "    awg_drive.load_sequencer_program(seq_leader)\n",
    "    awg_gate.load_sequencer_program(seq_follower)"
   ]
  },
  {
   "cell_type": "markdown",
   "metadata": {},
   "source": [
    "## Configure DIO\n",
    "\n",
    "We configure the following settings in the DIO interface:\n",
    "* mode \"AWG Sequencer\"\n",
    "* enable driving of first bus\n",
    "* polarity, index and slope of trigger"
   ]
  },
  {
   "cell_type": "code",
   "execution_count": 7,
   "metadata": {},
   "outputs": [],
   "source": [
    "with device.set_transaction():\n",
    "    # Settings in 'DIO' tab\n",
    "    device.dios[0].drive(0b0001)                        # Enable driving first byte\n",
    "    device.dios[0].output(0x00)                         # Reset DIO to clean state\n",
    "    device.dios[0].mode('awg_sequencer_commands')       # Switch to \"AWG Sequencer\" mode\n",
    "    \n",
    "    # Settings in \"AWG Sequencer\" - \"Trigger\" sub-tab\n",
    "    device.awgs[\"*\"].dio.valid.polarity('high')\n",
    "    device.awgs[\"*\"].dio.valid.index(0)\n",
    "    device.awgs[\"*\"].dio.strobe.slope('off')"
   ]
  },
  {
   "cell_type": "markdown",
   "metadata": {},
   "source": [
    "## Run the sequence\n",
    "First run the follower AWG cores, then the leader AWG core"
   ]
  },
  {
   "cell_type": "code",
   "execution_count": 8,
   "metadata": {},
   "outputs": [],
   "source": [
    "# With the set_transaction method, the dataserver ensures the right order of execution\n",
    "# The follower(s) must be started before of the leader\n",
    "with device.set_transaction():\n",
    "    awg_gate.enable(True)\n",
    "    awg_drive.enable(True)"
   ]
  },
  {
   "cell_type": "code",
   "execution_count": null,
   "metadata": {},
   "outputs": [],
   "source": []
  }
 ],
 "metadata": {
  "kernelspec": {
   "display_name": "Python 3.10.0 ('labone-ET50RQyM')",
   "language": "python",
   "name": "python3"
  },
  "language_info": {
   "codemirror_mode": {
    "name": "ipython",
    "version": 3
   },
   "file_extension": ".py",
   "mimetype": "text/x-python",
   "name": "python",
   "nbconvert_exporter": "python",
   "pygments_lexer": "ipython3",
   "version": "3.10.0"
  },
  "orig_nbformat": 4,
  "vscode": {
   "interpreter": {
    "hash": "b3cd37bd5510aa227978f80ba62a38919ac5f05919b02f538e85a6eca208b1f7"
   }
  }
 },
 "nbformat": 4,
 "nbformat_minor": 2
}
