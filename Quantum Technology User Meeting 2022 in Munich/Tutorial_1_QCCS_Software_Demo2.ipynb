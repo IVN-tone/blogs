{
 "cells": [
  {
   "cell_type": "markdown",
   "id": "0ed599f8-b026-4714-8243-4df4bc485ea6",
   "metadata": {},
   "source": [
    "# QT User Meeting Tutorial 1 - Demo 2\n",
    "## Ramsey experiment\n",
    "\n",
    "Copyright (C) 2022 Zurich Instruments\n",
    "\n",
    "This software may be modified and distributed under the terms of the MIT license. See the LICENSE file for details."
   ]
  },
  {
   "cell_type": "markdown",
   "id": "961a420e-7dc7-46fd-aea8-12af1cea8aa2",
   "metadata": {},
   "source": [
    "# 0. General Imports and Definitions"
   ]
  },
  {
   "cell_type": "markdown",
   "id": "2a01d7d5-527b-4324-aa74-95d768f9a2ef",
   "metadata": {},
   "source": [
    "## 0.1 Python Imports"
   ]
  },
  {
   "cell_type": "code",
   "execution_count": null,
   "id": "537d6564",
   "metadata": {
    "ExecuteTime": {
     "end_time": "2021-12-06T23:14:33.099597Z",
     "start_time": "2021-12-06T23:14:31.715508Z"
    }
   },
   "outputs": [],
   "source": [
    "%config IPCompleter.greedy=True\n",
    "\n",
    "# convenience import for all QCCS software functionality\n",
    "from qccs.simple import *\n",
    "# pulse sheet viewer generates a html file that displays the pulse sequence \n",
    "from qccs.pulse_sheet_viewer.pulse_sheet_viewer import show_pulse_sheet\n",
    "\n",
    "# additional imports for plotting \n",
    "import matplotlib.pyplot as plt\n",
    "import numpy as np"
   ]
  },
  {
   "cell_type": "markdown",
   "id": "249fc5cd-3ec9-479d-ad41-aff8eef25a8d",
   "metadata": {},
   "source": [
    "## 0.2 Definition for Result Plotting"
   ]
  },
  {
   "cell_type": "code",
   "execution_count": null,
   "id": "1c537930",
   "metadata": {
    "ExecuteTime": {
     "end_time": "2021-12-06T23:14:33.182818Z",
     "start_time": "2021-12-06T23:14:33.167077Z"
    }
   },
   "outputs": [],
   "source": [
    "# 2D plot\n",
    "def plot_result_2d(results, handle):\n",
    "    acquired_data = results.get_data(handle)\n",
    "    axis_grid = results.get_axis(handle)[0]\n",
    "    axis_name = results.get_axis_name(handle)[0]\n",
    "    \n",
    "    plt.plot(axis_grid, np.absolute(acquired_data))\n",
    "    plt.xlabel(axis_name)\n",
    "    plt.ylabel(handle)\n",
    "\n",
    "# 3D plot\n",
    "def plot_result_3d(results, handle):\n",
    "    acquired_data = results.get_data(handle)\n",
    "    y_axis_grid = results.get_axis(handle)[0]\n",
    "    y_axis_name = results.get_axis_name(handle)[0]\n",
    "    x_axis_grid = results.get_axis(handle)[1]\n",
    "    x_axis_name = results.get_axis_name(handle)[1]\n",
    "    \n",
    "    X, Y = np.meshgrid(x_axis_grid, y_axis_grid)\n",
    "    \n",
    "    ax = plt.axes(projection='3d')\n",
    "    ax.plot_wireframe(X, Y, np.absolute(acquired_data))\n",
    "    ax.set_xlabel(x_axis_name)\n",
    "    ax.set_ylabel(y_axis_name)\n",
    "    ax.set_zlabel(handle)\n",
    "    \n",
    "    plt.figure() # Create new dummy figure to ensure no side effects of the current 3D figure"
   ]
  },
  {
   "cell_type": "markdown",
   "id": "c8aa3c8e-12ce-4f86-a5bb-7f76e0c0f5d7",
   "metadata": {},
   "source": [
    "# 1. Define Device Setup and Calibration"
   ]
  },
  {
   "cell_type": "markdown",
   "id": "f44d74bf-d663-4421-b826-bd156e65415c",
   "metadata": {},
   "source": [
    "## 1.1 Define a Device Setup\n",
    "\n",
    "Descriptor contains all information on instruments used, internal connections between instruments as well as wiring to the experiment"
   ]
  },
  {
   "cell_type": "code",
   "execution_count": null,
   "id": "c4275166",
   "metadata": {
    "ExecuteTime": {
     "end_time": "2021-12-06T23:14:33.115126Z",
     "start_time": "2021-12-06T23:14:33.099597Z"
    }
   },
   "outputs": [],
   "source": [
    "descriptor=\"\"\"\\\n",
    "instrument_list:\n",
    "  HDAWG:\n",
    "  - address: DEV8297\n",
    "    uid: device_hdawg\n",
    "  SHFSG:\n",
    "  - address: DEV12127\n",
    "    uid: device_shfsg\n",
    "  SHFQA:\n",
    "  - address: DEV12121    \n",
    "    uid: device_shfqa\n",
    "  PQSC:  \n",
    "  - address: DEV10064\n",
    "    uid: device_pqsc\n",
    "connections:\n",
    "  device_hdawg:\n",
    "    - rf_signal: q0/flux_line\n",
    "      ports: [SIGOUTS/0]        \n",
    "  device_shfsg:    \n",
    "    - iq_signal: q0/drive_line\n",
    "      ports: SGCHANNELS/0/OUTPUT        \n",
    "  device_shfqa:    \n",
    "    - iq_signal: q0/measure_line\n",
    "      ports: QACHANNELS/0/OUTPUT        \n",
    "    - acquire_signal: q0/acquire_line\n",
    "      ports: QACHANNELS/0/INPUT\n",
    "  device_pqsc:\n",
    "    - to: device_shfsg\n",
    "      port: ZSYNCS/1\n",
    "    - to: device_shfqa\n",
    "      port: ZSYNCS/2\n",
    "    - to: device_hdawg\n",
    "      port: ZSYNCS/0\n",
    "\"\"\""
   ]
  },
  {
   "cell_type": "markdown",
   "id": "81eae8d4-aaac-486e-ae41-0c0bc01c706e",
   "metadata": {},
   "source": [
    "## 1.2 Define Calibration Settings\n",
    "\n",
    "Modify the calibration on the device setup with known parameters for qubit control and readout - qubit control and readout frequencies, mixer calibration corrections"
   ]
  },
  {
   "cell_type": "code",
   "execution_count": null,
   "id": "c92e41eb",
   "metadata": {
    "ExecuteTime": {
     "end_time": "2021-12-06T23:14:33.151459Z",
     "start_time": "2021-12-06T23:14:33.120171Z"
    }
   },
   "outputs": [],
   "source": [
    "# functions that modifies the calibration on a given device setup\n",
    "def calibrate_devices(device_setup):\n",
    "    ## qubit 0\n",
    "    # calibration setting for drive line for qubit 0\n",
    "    device_setup.logical_signal_groups[\"q0\"].logical_signals[\"drive_line\"].calibration = SignalCalibration(\n",
    "        # oscillator settings - frequency and type of oscillator used to modulate the pulses applied through this signal line\n",
    "        oscillator=Oscillator(\n",
    "            uid=\"drive_q0_osc\",\n",
    "            frequency=1e8,\n",
    "            modulation_type=ModulationType.HARDWARE),\n",
    "        local_oscillator=Oscillator(\n",
    "            \"lo_shfsg\",\n",
    "            frequency=1e9\n",
    "        ),\n",
    "        range = 5,\n",
    "        # global and static delay of logical signal line: use to align pulses and compensate skew\n",
    "        port_delay=0,       # applied to corresponding instrument node, bound to hardware limits\n",
    "        delay_signal=0,     # inserted in sequencer code, bound to waveform granularity\n",
    "    )\n",
    "    # calibration setting for flux line for qubit 0\n",
    "    device_setup.logical_signal_groups[\"q0\"].logical_signals[\"flux_line\"].calibration = SignalCalibration(\n",
    "        oscillator=Oscillator(\n",
    "            uid=\"flux_q0_osc\",\n",
    "            frequency=1e8,\n",
    "            modulation_type=ModulationType.HARDWARE),\n",
    "        # global and static delay of logical signal line: use to align pulses and compensate skew\n",
    "        port_delay=0,       # applied to corresponding instrument node, bound to hardware limits\n",
    "        delay_signal=0,     # inserted in sequencer code, bound to waveform granularity\n",
    "    )\n",
    "    # calibration setting for readout pulse line for qubit 0\n",
    "    device_setup.logical_signal_groups[\"q0\"].logical_signals[\"measure_line\"].calibration = SignalCalibration(\n",
    "        oscillator = Oscillator(\n",
    "            uid=\"measure_q0_osc\",\n",
    "            frequency=1e8,\n",
    "            modulation_type=ModulationType.SOFTWARE),\n",
    "        local_oscillator=Oscillator(\n",
    "            \"lo_shfqa\",\n",
    "            frequency=1.2e9\n",
    "        ),\n",
    "        range = 5,\n",
    "        delay_signal=0,     # inserted in sequencer code, bound to waveform granularity\n",
    "        )\n",
    "    # calibration setting for data acquisition line for qubit 0\n",
    "    device_setup.logical_signal_groups[\"q0\"].logical_signals[\"acquire_line\"].calibration = SignalCalibration(\n",
    "        oscillator=Oscillator(\n",
    "            uid=\"acquire_osc\",\n",
    "            frequency=1e8,\n",
    "            modulation_type=ModulationType.SOFTWARE),\n",
    "        local_oscillator=Oscillator(\n",
    "            \"lo_shfqa\",\n",
    "            frequency=1.2e9\n",
    "        ),\n",
    "        range = 5,\n",
    "        # delays the start of integration in relation to the start of the readout pulse to compensate for signal propagation time\n",
    "        port_delay=10e-9,   # applied to corresponding instrument node, bound to hardware limits\n",
    "        delay_signal=0,     # inserted in sequencer code, bound to waveform granularity\n",
    "    )"
   ]
  },
  {
   "cell_type": "markdown",
   "id": "ce42775c-9f55-422d-8430-595a620cba87",
   "metadata": {},
   "source": [
    "## 1.3 Create Device Setup and Apply Calibration Settings"
   ]
  },
  {
   "cell_type": "code",
   "execution_count": null,
   "id": "9593232d",
   "metadata": {
    "ExecuteTime": {
     "end_time": "2021-12-06T23:14:33.167077Z",
     "start_time": "2021-12-06T23:14:33.151459Z"
    }
   },
   "outputs": [],
   "source": [
    "# Function returning a calibrated device setup \n",
    "def create_device_setup():\n",
    "    device_setup = DeviceSetup.from_descriptor(\n",
    "        descriptor,\n",
    "        server_host=\"localhost\",    # ip address of the LabOne dataserver used to communicate with the instruments\n",
    "        server_port=\"8004\",             # port number of the dataserver - default is 8004\n",
    "        setup_name=\"my_QCCS_setup\",     # setup name\n",
    "    ) \n",
    "    calibrate_devices(device_setup)\n",
    "    return device_setup\n",
    "\n",
    "# create device setup\n",
    "device_setup = create_device_setup()"
   ]
  },
  {
   "cell_type": "code",
   "execution_count": null,
   "id": "8c59159f",
   "metadata": {},
   "outputs": [],
   "source": [
    "# use emulation mode - change, if running on hardware\n",
    "use_emulation=True"
   ]
  },
  {
   "cell_type": "markdown",
   "id": "f4a0f631-ec16-436b-9e38-fdb306ff052c",
   "metadata": {
    "tags": []
   },
   "source": [
    "# 2. Ramsey Experiment\n",
    "\n",
    "Sweep the delay between two slightly detuned pi/2 pulses to determine the qubit dephasing time as well as fine calibration its excited state frequency"
   ]
  },
  {
   "cell_type": "markdown",
   "id": "d068797e-1673-4a5b-93c2-c450e8c061ab",
   "metadata": {},
   "source": [
    "## 2.1 Define the Experiment"
   ]
  },
  {
   "cell_type": "code",
   "execution_count": null,
   "id": "0dc0ba0a-bc2e-456f-a3d0-e03c1de52ec4",
   "metadata": {},
   "outputs": [],
   "source": [
    "## define pulses\n",
    "\n",
    "# qubit drive pulse - use amplitude calibrated by amplitude Rabi experiment\n",
    "x90 = pulse_library.gaussian(uid=\"x90\", length=100e-9, amplitude=1)\n",
    "# readout drive pulse\n",
    "readout_pulse = pulse_library.const(\n",
    "    uid=\"readout_pulse\", length=400e-9, amplitude=1.0\n",
    ")\n",
    "# readout integration weights\n",
    "readout_weighting_function = pulse_library.const(\n",
    "    uid=\"readout_weighting_function\", length=400e-9, amplitude=1.0\n",
    ")"
   ]
  },
  {
   "cell_type": "code",
   "execution_count": null,
   "id": "4b1deeb5",
   "metadata": {
    "ExecuteTime": {
     "end_time": "2021-12-06T23:14:35.740577Z",
     "start_time": "2021-12-06T23:14:35.139445Z"
    }
   },
   "outputs": [],
   "source": [
    "# set up sweep parameter - delay between pi/2 pulses\n",
    "start = 0.0\n",
    "stop = 1000e-9\n",
    "count = 10\n",
    "\n",
    "sweep_parameter = LinearSweepParameter(uid=\"delay\", start=start, stop=stop, count=count)\n",
    "amplitude_sweep = LinearSweepParameter(uid=\"amplitude\", start=0, stop=1, count=count)\n",
    "\n",
    "# number of averages\n",
    "average_exponent = 1  # used for 2^n averages, n=average_exponent\n",
    "\n",
    "# Create Experiment\n",
    "exp = Experiment(\n",
    "    uid=\"Ramsey\",\n",
    "    signals=[\n",
    "        ExperimentSignal(\"drive\"),\n",
    "        ExperimentSignal(\"measure\"),\n",
    "        ExperimentSignal(\"acquire\"),\n",
    "    ],\n",
    ")\n",
    "## experimental pulse sequence\n",
    "# outer loop - real-time, cyclic averaging in standard integration mode\n",
    "with exp.acquire_loop_rt(uid=\"shots\", count=pow(2, average_exponent),\n",
    "    averaging_mode=AveragingMode.CYCLIC, acquisition_type=AcquisitionType.INTEGRATION\n",
    "    ):\n",
    "    # inner loop - real-time sweep over delay between qubit pulses\n",
    "    with exp.sweep(uid=\"sweep\", parameter=[sweep_parameter, amplitude_sweep]):\n",
    "        # qubit drive pulses - use right-aligned, constant length section to optimize overall experimental sequence\n",
    "        with exp.section(uid=\"qubit_excitation\", length=stop+2*x90.length, alignment=SectionAlignment.RIGHT):\n",
    "            exp.play(signal=\"drive\", pulse=x90)\n",
    "            exp.delay(signal=\"drive\", time=sweep_parameter)\n",
    "            exp.play(signal=\"drive\", pulse=x90, amplitude=amplitude_sweep)\n",
    "        # qubit readout pulse and data acquisition\n",
    "        with exp.section(uid=\"qubit_readout\"):\n",
    "            exp.reserve(signal=\"drive\")\n",
    "            # add a delay before the readout pulse\n",
    "            exp.delay(signal=\"measure\", time=10e-9)\n",
    "            exp.delay(signal=\"acquire\", time=10e-9)\n",
    "            # play readout pulse\n",
    "            exp.play(signal=\"measure\", pulse=readout_pulse)\n",
    "            # signal data acquisition\n",
    "            exp.acquire(\n",
    "                signal=\"acquire\",\n",
    "                handle=\"ac_0\",\n",
    "                kernel=readout_weighting_function,\n",
    "            )\n",
    "        # relax time after readout - for signal processing and qubit relaxation to groundstate\n",
    "        with exp.section(uid=\"relax\"):\n",
    "            exp.delay(signal=\"measure\", time=1e-6)"
   ]
  },
  {
   "cell_type": "code",
   "execution_count": null,
   "id": "b10527ec",
   "metadata": {},
   "outputs": [],
   "source": [
    "# define signal maps for qubit 0\n",
    "map_q0 = {\n",
    "    \"drive\": device_setup.logical_signal_groups[\"q0\"].logical_signals[\"drive_line\"],\n",
    "    \"measure\": device_setup.logical_signal_groups[\"q0\"].logical_signals[\"measure_line\"],\n",
    "    \"acquire\": device_setup.logical_signal_groups[\"q0\"].logical_signals[\"acquire_line\"],\n",
    "}"
   ]
  },
  {
   "cell_type": "markdown",
   "id": "7e485382-ccd1-4c32-8253-1f5e9e2ad127",
   "metadata": {},
   "source": [
    "## 2.2 Run the Experiment and Plot the Measurement Results and Pulse Sequence"
   ]
  },
  {
   "cell_type": "code",
   "execution_count": null,
   "id": "dc48e4a3",
   "metadata": {},
   "outputs": [],
   "source": [
    "# set signal map to qubit 0\n",
    "exp.set_signal_map(map_q0)\n",
    "\n",
    "# create and connect to session\n",
    "session = Session(device_setup=device_setup)\n",
    "session.connect(do_emulation=use_emulation)\n",
    "\n",
    "# run experiment on qubit 0\n",
    "session.run_all(exp)"
   ]
  },
  {
   "cell_type": "markdown",
   "id": "07985a87",
   "metadata": {},
   "source": [
    "# 3. Pulse Sheet Viewer"
   ]
  },
  {
   "cell_type": "code",
   "execution_count": null,
   "id": "949aeb80",
   "metadata": {},
   "outputs": [],
   "source": [
    "# plot output signals with the integrated plotter\n",
    "Plotter.plot(session.results.output_signals)"
   ]
  },
  {
   "cell_type": "code",
   "execution_count": null,
   "id": "60e2b3d7",
   "metadata": {},
   "outputs": [],
   "source": [
    "# use pulse sheet viewer to display the pulse sequence\n",
    "compiled_exp = session.compiled_experiment\n",
    "show_pulse_sheet(\"Ramsey\", compiled_exp)"
   ]
  }
 ],
 "metadata": {
  "hide_input": false,
  "interpreter": {
   "hash": "1d90260719625fa7b481def5ad65711fb0ff8f3ec87862480c32cd44a14ffbb9"
  },
  "kernelspec": {
   "display_name": "Python 3.8.10 ('QCCSTesting')",
   "language": "python",
   "name": "python3"
  },
  "language_info": {
   "codemirror_mode": {
    "name": "ipython",
    "version": 3
   },
   "file_extension": ".py",
   "mimetype": "text/x-python",
   "name": "python",
   "nbconvert_exporter": "python",
   "pygments_lexer": "ipython3",
   "version": "3.8.10"
  },
  "toc": {
   "base_numbering": 1,
   "nav_menu": {},
   "number_sections": true,
   "sideBar": true,
   "skip_h1_title": false,
   "title_cell": "Table of Contents",
   "title_sidebar": "Contents",
   "toc_cell": false,
   "toc_position": {
    "height": "calc(100% - 180px)",
    "left": "10px",
    "top": "150px",
    "width": "426.667px"
   },
   "toc_section_display": true,
   "toc_window_display": true
  },
  "varInspector": {
   "cols": {
    "lenName": 16,
    "lenType": 16,
    "lenVar": 40
   },
   "kernels_config": {
    "python": {
     "delete_cmd_postfix": "",
     "delete_cmd_prefix": "del ",
     "library": "var_list.py",
     "varRefreshCmd": "print(var_dic_list())"
    },
    "r": {
     "delete_cmd_postfix": ") ",
     "delete_cmd_prefix": "rm(",
     "library": "var_list.r",
     "varRefreshCmd": "cat(var_dic_list()) "
    }
   },
   "types_to_exclude": [
    "module",
    "function",
    "builtin_function_or_method",
    "instance",
    "_Feature"
   ],
   "window_display": false
  }
 },
 "nbformat": 4,
 "nbformat_minor": 5
}
