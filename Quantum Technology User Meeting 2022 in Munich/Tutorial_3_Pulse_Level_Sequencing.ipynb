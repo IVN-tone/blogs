{
 "cells": [
  {
   "cell_type": "markdown",
   "metadata": {},
   "source": [
    "# QT User Meeting Tutorial 3\n",
    "## Pulse level sequencing\n",
    "\n",
    "Copyright (C) 2022 Zurich Instruments\n",
    "\n",
    "This software may be modified and distributed under the terms of the MIT license. See the LICENSE file for details."
   ]
  },
  {
   "cell_type": "markdown",
   "metadata": {},
   "source": [
    "# Import packages"
   ]
  },
  {
   "cell_type": "code",
   "execution_count": 1,
   "metadata": {},
   "outputs": [],
   "source": [
    "# This notebook uses the Toolkit, which builds on our Python API\n",
    "from zhinst.toolkit import Session\n",
    "from zhinst.toolkit import CommandTable\n",
    "from zhinst.toolkit import Waveforms\n",
    "import numpy as np"
   ]
  },
  {
   "cell_type": "markdown",
   "metadata": {},
   "source": [
    "# Define constants"
   ]
  },
  {
   "cell_type": "code",
   "execution_count": 2,
   "metadata": {},
   "outputs": [],
   "source": [
    "## These are all the settings used throughout the entire notebook.\n",
    "\n",
    "# Connection configuration:\n",
    "device_id             = 'dev12127'\n",
    "server_host           = \"127.0.0.1\"\n",
    "\n",
    "# Analog RF output:\n",
    "channel_index         = 0 #0...7\n",
    "output_range          = -5 #dBm\n",
    "center_frequency      = 1.5e9 #Hz\n",
    "rflf_path             = 1 #RF path\n",
    "enable                = 1\n",
    "disable               = 0\n",
    "\n",
    "# Digital modulation:\n",
    "osc1_frequency        = -125.521e6 #Hz\n",
    "osc2_frequency        = 339.197e6 #Hz\n",
    "osc1_index            = 0 #0...7\n",
    "osc2_index            = 1 #0...7\n",
    "phase                 = 25.2 #degrees\n",
    "global_amp            = 0.5 #0...1\n",
    "gains_cw              = (0.0, 0.95, 0.95, 0.0) #unitless\n",
    "gains_mod             = (1.0, -1.0, 1.0, 1.0) #unitless\n",
    "\n",
    "# Markers and triggers\n",
    "trigger_in_source     = 'inttrig'\n",
    "trigger_in_slope      = 'rising_edge'\n",
    "marker_out_source     = 'output0_marker0'\n",
    "repetitions           = 1e9 #unitless\n",
    "holdoff               = 2.5e-6 #s\n",
    "\n",
    "## Sequencer:\n",
    "# General:\n",
    "single                = 0 #repeat sequence\n",
    "samp_rate             = 2e9 # Gb/s\n",
    "amp                   = 1.0 #unitless, 0...1\n",
    "length                = 50e-9 #s\n",
    "readout               = 0.5e-6 #s\n",
    "n_aves                = 10000\n",
    "\n",
    "# Ramsey\n",
    "n_evos                = 100 #number of evolution times for Ramsey\n",
    "evo_step              = 16e-9 #s\n",
    "\n",
    "# Phase-sweep Ramsey\n",
    "n_phases              = 100 #number of phases for Ramsey\n",
    "\n",
    "# Sub-sample Ramsey\n",
    "subsampling_bits      = 2\n",
    "t_start               = 16 #samples\n",
    "t_stop                = 5000 #samples\n",
    "t_step                = 1 #samples\n",
    "\n",
    "# Rabi\n",
    "n_amps                = 100 #number of amplitudes for Rabi\n",
    "\n",
    "# DRAG calibration\n",
    "q_start               = -1.0 #first qscale value\n",
    "q_stop                = 1.0 #last qscale value\n",
    "n_qscale              = 100 #number of qscale values\n",
    "q_step                = (q_stop - q_start) / n_qscale #qscale step size\n",
    "\n",
    "# Randomized benchmarking\n",
    "pi_amplitude          = 1.0\n",
    "pi2_amplitude         = 0.5\n",
    "pi_length             = length\n",
    "pi2_length            = length\n",
    "awg_register_m1       = 0\n",
    "awg_register_seed     = 1\n",
    "awg_register_recovery = 2"
   ]
  },
  {
   "cell_type": "markdown",
   "metadata": {},
   "source": [
    "# Connect to device"
   ]
  },
  {
   "cell_type": "code",
   "execution_count": 3,
   "metadata": {},
   "outputs": [],
   "source": [
    "session = Session(server_host)\n",
    "device = session.connect_device(device_id)\n",
    "#device.check_compatibility()"
   ]
  },
  {
   "cell_type": "markdown",
   "metadata": {},
   "source": [
    "# Generate a CW Signal"
   ]
  },
  {
   "cell_type": "code",
   "execution_count": 4,
   "metadata": {},
   "outputs": [],
   "source": [
    "# Configure RF output\n",
    "device.sgchannels[channel_index].configure_channel(enable = enable, output_range = output_range, center_frequency = center_frequency, rf_path = rflf_path)\n",
    "\n",
    "# Configure digital sine generator\n",
    "device.sgchannels[channel_index].configure_sine_generation(enable = enable, osc_index = osc1_index, osc_frequency = osc1_frequency, phase = phase, gains = gains_cw)"
   ]
  },
  {
   "cell_type": "markdown",
   "metadata": {},
   "source": [
    "# Generate a Gaussian pulse"
   ]
  },
  {
   "cell_type": "code",
   "execution_count": 6,
   "metadata": {},
   "outputs": [],
   "source": [
    "# Disable cw signal generation\n",
    "device.sgchannels[channel_index].sines[0].I.enable(disable)\n",
    "device.sgchannels[channel_index].sines[0].Q.enable(disable)\n",
    "\n",
    "# Configure digital modulation\n",
    "device.sgchannels[channel_index].configure_pulse_modulation(enable = enable, osc_index = osc1_index, osc_frequency = osc1_frequency, phase = phase, global_amp = global_amp, gains = gains_mod)\n",
    "\n",
    "# Configure marker outputs and trigger inputs of the sequencer\n",
    "device.sgchannels[channel_index].awg.configure_marker_and_trigger(trigger_in_source = trigger_in_source, trigger_in_slope = trigger_in_slope, marker_out_source = marker_out_source)\n",
    "\n",
    "# Configure internal trigger unit\n",
    "with device.set_transaction():\n",
    "    device.system.internaltrigger.enable(disable) #turn off in case it was running before\n",
    "    device.system.internaltrigger.repetitions(repetitions)\n",
    "    device.system.internaltrigger.holdoff(holdoff)\n"
   ]
  },
  {
   "cell_type": "code",
   "execution_count": 7,
   "metadata": {},
   "outputs": [],
   "source": [
    "seqc_str = f\"\"\"\n",
    "//Define constants\n",
    "const amp = {amp};\n",
    "const length = ceil(DEVICE_SAMPLE_RATE*{length}/32)*32; //convert length in time to samples\n",
    "const width = length/8;\n",
    "\n",
    "//Waveform definition\n",
    "wave wI = gauss(length,amp,length/2,width);\n",
    "wave m = marker(length,1);\n",
    "wave wIm = wI + m; //combine waveform and marker data\n",
    "\n",
    "repeat ({repetitions}) {{\n",
    "  waitDigTrigger(1); //wait for trigger from internal trigger unit\n",
    "  resetOscPhase();\n",
    "  playWave(1,2,wIm);\n",
    "}}\n",
    "\"\"\""
   ]
  },
  {
   "cell_type": "code",
   "execution_count": 8,
   "metadata": {},
   "outputs": [],
   "source": [
    "# Upload sequence and enable sequencer\n",
    "device.sgchannels[channel_index].awg.load_sequencer_program(seqc_str)\n",
    "device.sgchannels[channel_index].awg.enable_sequencer(single = single)"
   ]
  },
  {
   "cell_type": "code",
   "execution_count": 9,
   "metadata": {},
   "outputs": [],
   "source": [
    "#Start internal trigger\n",
    "device.system.internaltrigger.enable(enable)"
   ]
  },
  {
   "cell_type": "markdown",
   "metadata": {},
   "source": [
    "# Ramsey Sequence"
   ]
  },
  {
   "cell_type": "code",
   "execution_count": 1,
   "metadata": {},
   "outputs": [
    {
     "ename": "NameError",
     "evalue": "name 'n_evos' is not defined",
     "output_type": "error",
     "traceback": [
      "\u001b[1;31m---------------------------------------------------------------------------\u001b[0m",
      "\u001b[1;31mNameError\u001b[0m                                 Traceback (most recent call last)",
      "\u001b[1;32m<ipython-input-1-49d27089a651>\u001b[0m in \u001b[0;36m<module>\u001b[1;34m\u001b[0m\n\u001b[0;32m      1\u001b[0m seqc_ramsey = f\"\"\"\n\u001b[0;32m      2\u001b[0m \u001b[1;33m//\u001b[0m\u001b[0mDefine\u001b[0m \u001b[0mconstants\u001b[0m\u001b[1;33m\u001b[0m\u001b[1;33m\u001b[0m\u001b[0m\n\u001b[1;32m----> 3\u001b[1;33m \u001b[0mconst\u001b[0m \u001b[0mnum_evos\u001b[0m \u001b[1;33m=\u001b[0m \u001b[1;33m{\u001b[0m\u001b[0mn_evos\u001b[0m\u001b[1;33m}\u001b[0m\u001b[1;33m;\u001b[0m\u001b[1;33m\u001b[0m\u001b[1;33m\u001b[0m\u001b[0m\n\u001b[0m\u001b[0;32m      4\u001b[0m \u001b[0mconst\u001b[0m \u001b[0mevo_step\u001b[0m \u001b[1;33m=\u001b[0m \u001b[0mceil\u001b[0m\u001b[1;33m(\u001b[0m\u001b[0mDEVICE_SAMPLE_RATE\u001b[0m\u001b[1;33m*\u001b[0m\u001b[1;33m{\u001b[0m\u001b[0mevo_step\u001b[0m\u001b[1;33m}\u001b[0m\u001b[1;33m/\u001b[0m\u001b[1;36m16\u001b[0m\u001b[1;33m)\u001b[0m\u001b[1;33m*\u001b[0m\u001b[1;36m16\u001b[0m\u001b[1;33m;\u001b[0m\u001b[1;33m\u001b[0m\u001b[1;33m\u001b[0m\u001b[0m\n\u001b[0;32m      5\u001b[0m \u001b[0mconst\u001b[0m \u001b[0mnum_aves\u001b[0m \u001b[1;33m=\u001b[0m \u001b[1;33m{\u001b[0m\u001b[0mn_aves\u001b[0m\u001b[1;33m}\u001b[0m\u001b[1;33m;\u001b[0m\u001b[1;33m\u001b[0m\u001b[1;33m\u001b[0m\u001b[0m\n",
      "\u001b[1;31mNameError\u001b[0m: name 'n_evos' is not defined"
     ]
    }
   ],
   "source": [
    "seqc_ramsey = f\"\"\"\n",
    "//Define constants\n",
    "const num_evos = {n_evos};\n",
    "const evo_step = ceil(DEVICE_SAMPLE_RATE*{evo_step}/16)*16;\n",
    "const num_aves = {n_aves};\n",
    "const amp = {amp};\n",
    "const length = ceil(DEVICE_SAMPLE_RATE*{length}/16)*16;\n",
    "const readout = ceil(DEVICE_SAMPLE_RATE*{readout}/16)*16;\n",
    "const width = length/8;\n",
    "\n",
    "//Waveform definition\n",
    "wave wI = gauss(length,amp,length/2,width);\n",
    "wave wQ = drag(length,amp,length/2,width);\n",
    "wave m = marker(readout,1);\n",
    "\n",
    "//Assign index and outputs\n",
    "assignWaveIndex(1,2,wI,1,2,wQ,0);\n",
    "\n",
    "//Execution, sequential averaging\n",
    "do {{\n",
    "  var i;\n",
    "  for (i = 0; i < num_evos; i++) {{           //Evolution time loop\n",
    "    repeat (num_aves) {{                      //Averaging loop\n",
    "      waitDigTrigger(1);\n",
    "      resetOscPhase();                        //Reset the oscillator\n",
    "\n",
    "      executeTableEntry(0);                   //First pi/2 pulse\n",
    "      playZero(32+i*evo_step);                //Evolution time\n",
    "      executeTableEntry(0);                   //Second pi/2 pulse\n",
    "      \n",
    "      playWave(m);                            //Readout\n",
    "      waitWave();\n",
    "    }}\n",
    "  }}\n",
    "}} while (1);\n",
    "\"\"\""
   ]
  },
  {
   "cell_type": "code",
   "execution_count": 11,
   "metadata": {},
   "outputs": [],
   "source": [
    "# Disable internal trigger\n",
    "device.system.internaltrigger.enable(disable)\n",
    "\n",
    "# Define command table\n",
    "ct_schema = device.sgchannels[channel_index].awg.commandtable.load_validation_schema()\n",
    "ct_ramsey = CommandTable(ct_schema)\n",
    "ct_ramsey.table[0].waveform.index = 0 # Define table entry 0 to use waveform index 0\n",
    "\n",
    "# Upload sequence\n",
    "device.sgchannels[channel_index].awg.load_sequencer_program(seqc_ramsey)\n",
    "\n",
    "# Upload command table\n",
    "device.sgchannels[channel_index].awg.commandtable.upload_to_device(ct_ramsey)\n",
    "\n",
    "# Enable sequencer\n",
    "device.sgchannels[channel_index].awg.enable_sequencer(single = single)"
   ]
  },
  {
   "cell_type": "code",
   "execution_count": 13,
   "metadata": {},
   "outputs": [],
   "source": [
    "#Start internal trigger\n",
    "device.system.internaltrigger.enable(enable)"
   ]
  },
  {
   "cell_type": "markdown",
   "metadata": {},
   "source": [
    "# Ramsey with Sub-Sample Resolution"
   ]
  },
  {
   "cell_type": "code",
   "execution_count": 27,
   "metadata": {},
   "outputs": [],
   "source": [
    "seqc_ramsey = f\"\"\"\n",
    "//Define constants\n",
    "const num_evos = {n_evos};\n",
    "const evo_step = ceil(DEVICE_SAMPLE_RATE*{evo_step}/32)*32;\n",
    "const num_aves = {n_aves};\n",
    "const amp = {amp};\n",
    "const length = ceil(DEVICE_SAMPLE_RATE*{length}/32)*32;\n",
    "const readout = ceil(DEVICE_SAMPLE_RATE*{readout}/32)*32;\n",
    "const width = length/8;\n",
    "\n",
    "const subsampling = pow(2,{subsampling_bits});\n",
    "const all_bits = {subsampling_bits} + 4;\n",
    "\n",
    "const mask_fine = pow(2,all_bits) - 1;\n",
    "const mask_coarse = -pow(2,all_bits);\n",
    "\n",
    "//Waveform definition\n",
    "wave wI0 = gauss(length, amp, length/2, width);\n",
    "wave wQ0 = drag(length, amp, length/2, width);\n",
    "wave m = marker(readout,1);\n",
    "\n",
    "//Create shifted waveforms\n",
    "cvar j,k;\n",
    "for (j = 0; j < 16; j++) {{\n",
    "  for (k = 0; k < subsampling; k++) {{\n",
    "    wave wI = gauss(length, amp, length/2 + k/subsampling, width);\n",
    "    wave wQ = drag(length, amp, length/2 + k/subsampling, width);\n",
    "    wave wI_shifted = join(zeros(j), wI, zeros(16-j));             //Create the j-samples shifted waveform\n",
    "    wave wQ_shifted = join(zeros(j), wQ, zeros(16-j));             //Create the j-samples shifted waveform\n",
    "    assignWaveIndex(1,2,wI_shifted,1,2,wQ_shifted,subsampling*j+k);   //Assign index to the waveform\n",
    "  }}\n",
    "}}\n",
    "\n",
    "do {{\n",
    "  //Execution, sequential averaging\n",
    "  var t = {t_start};\n",
    "  var t_fine, coarse, t_coarse;\n",
    "  do {{\n",
    "      t_fine = t & mask_fine;                   //The fine shift is the four least significant bits\n",
    "      coarse = t & mask_coarse;                 //Check if coarse delay is needed (boolean). Equivalent to (t >= 16)\n",
    "      t_coarse = t>>{subsampling_bits};\n",
    "      \n",
    "      waitDigTrigger(1);\n",
    "      resetOscPhase();                          //Reset the oscillator\n",
    "\n",
    "      playWave(1,2,wI0,1,2,wQ0);                //Play first pulse, no shift\n",
    "      if(coarse)\n",
    "        playZero(t_coarse);                     //Evolution time t (coarse)\n",
    "      executeTableEntry(t_fine);                //Play second pulse, fine shift\n",
    "      \n",
    "      playWave(m);                              //Readout trigger\n",
    "      waitWave();\n",
    "      \n",
    "      t += {t_step};                            //Increase wait time\n",
    "  }} while (t < {t_stop});                      //Loop until the end\n",
    "}} while(1);\n",
    "\"\"\""
   ]
  },
  {
   "cell_type": "code",
   "execution_count": 28,
   "metadata": {},
   "outputs": [],
   "source": [
    "# Disable internal trigger\n",
    "device.system.internaltrigger.enable(disable)\n",
    "\n",
    "# Define command table\n",
    "ct_ramsey.clear()\n",
    "ct_schema = device.sgchannels[channel_index].awg.commandtable.load_validation_schema()\n",
    "ct_ramsey = CommandTable(ct_schema)\n",
    "for i in range(16*2**subsampling_bits):\n",
    "    ct_ramsey.table[i].waveform.index = i\n",
    "\n",
    "# Upload sequence\n",
    "device.sgchannels[channel_index].awg.load_sequencer_program(seqc_ramsey)\n",
    "\n",
    "# Upload command table\n",
    "device.sgchannels[channel_index].awg.commandtable.upload_to_device(ct_ramsey)\n",
    "\n",
    "# Enable sequencer\n",
    "device.sgchannels[channel_index].awg.enable_sequencer(single = single)"
   ]
  },
  {
   "cell_type": "code",
   "execution_count": 29,
   "metadata": {},
   "outputs": [],
   "source": [
    "device.system.internaltrigger.enable(enable)"
   ]
  },
  {
   "cell_type": "markdown",
   "metadata": {},
   "source": [
    "# Phase-sweep Ramsey"
   ]
  },
  {
   "cell_type": "code",
   "execution_count": 129,
   "metadata": {},
   "outputs": [],
   "source": [
    "seqc_ramsey = f\"\"\"\n",
    "//Define constants\n",
    "const num_phases = {n_phases};\n",
    "const num_aves = {n_aves};\n",
    "const amp = {amp};\n",
    "const length = ceil(DEVICE_SAMPLE_RATE*{length}/32)*32;\n",
    "const readout = ceil(DEVICE_SAMPLE_RATE*{readout}/32)*32;\n",
    "const width = length/8;\n",
    "\n",
    "//Waveform definition\n",
    "wave wI = gauss(length,amp,length/2,width);\n",
    "wave wQ = drag(length,amp,length/2,width);\n",
    "wave m = marker(readout,1);\n",
    "\n",
    "//Assign index and outputs\n",
    "assignWaveIndex(1,2,wI,1,2,wQ,0);\n",
    "\n",
    "//Execution, sequential averaging\n",
    "do {{\n",
    "  var phase = 0;\n",
    "  do {{                                        //Evolution time loop\n",
    "    repeat (num_aves) {{                       //Averaging loop\n",
    "      waitDigTrigger(1);\n",
    "      resetOscPhase();                         //Reset the oscillator\n",
    "      \n",
    "      executeTableEntry(num_phases);           //First pi/2 pulse\n",
    "      executeTableEntry(phase);                //Second pi/2 pulse\n",
    "      \n",
    "      playWave(m);                             //Readout trigger\n",
    "      waitWave();\n",
    "    }}\n",
    "    phase += 1;\n",
    "  }} while (phase < num_phases);\n",
    "}} while (1);\n",
    "\"\"\""
   ]
  },
  {
   "cell_type": "code",
   "execution_count": 130,
   "metadata": {},
   "outputs": [],
   "source": [
    "# Disable internal trigger\n",
    "device.system.internaltrigger.enable(disable)\n",
    "\n",
    "# Define command table\n",
    "ct_ramsey.clear()\n",
    "ct_schema = device.sgchannels[channel_index].awg.commandtable.load_validation_schema()\n",
    "ct_ramsey = CommandTable(ct_schema)\n",
    "for i in range(n_phases):\n",
    "    ct_ramsey.table[i].waveform.index = 0\n",
    "    ct_ramsey.table[i].phase.value = 360*i/n_phases\n",
    "    ct_ramsey.table[i].phase.increment = False\n",
    "    ct_ramsey.table[i].amplitude00.value = 1.0\n",
    "    ct_ramsey.table[i].amplitude00.increment = False\n",
    "    ct_ramsey.table[i].amplitude01.value = -1.0\n",
    "    ct_ramsey.table[i].amplitude01.increment = False\n",
    "    ct_ramsey.table[i].amplitude10.value = 1.0\n",
    "    ct_ramsey.table[i].amplitude10.increment = False\n",
    "    ct_ramsey.table[i].amplitude11.value = 1.0\n",
    "    ct_ramsey.table[i].amplitude11.increment = False\n",
    "ct_ramsey.table[n_phases].waveform.index = 0\n",
    "ct_ramsey.table[n_phases].phase.value = 0\n",
    "ct_ramsey.table[n_phases].phase.increment = False"
   ]
  },
  {
   "cell_type": "code",
   "execution_count": 131,
   "metadata": {},
   "outputs": [],
   "source": [
    "# Upload sequence\n",
    "device.sgchannels[channel_index].awg.load_sequencer_program(seqc_ramsey)\n",
    "\n",
    "# Upload command table\n",
    "device.sgchannels[channel_index].awg.commandtable.upload_to_device(ct_ramsey)\n",
    "\n",
    "# Enable sequencer\n",
    "device.sgchannels[channel_index].awg.enable_sequencer(single = single)"
   ]
  },
  {
   "cell_type": "code",
   "execution_count": 132,
   "metadata": {},
   "outputs": [],
   "source": [
    "device.system.internaltrigger.enable(enable)"
   ]
  },
  {
   "cell_type": "markdown",
   "metadata": {},
   "source": [
    "# Rabi sequence"
   ]
  },
  {
   "cell_type": "code",
   "execution_count": 133,
   "metadata": {},
   "outputs": [],
   "source": [
    "seqc_rabi = f\"\"\"\n",
    "//Define constants\n",
    "const num_amps = {n_amps};\n",
    "const num_aves = {n_aves};\n",
    "const amp = {amp};\n",
    "const length = ceil(DEVICE_SAMPLE_RATE*{length}/32)*32;\n",
    "const readout = ceil(DEVICE_SAMPLE_RATE*{readout}/32)*32;\n",
    "const width = length/8;\n",
    "\n",
    "//Waveform definition\n",
    "wave wI = gauss(length,amp,length/2,width);\n",
    "wave wQ = drag(length,amp,length/2,width);\n",
    "wave m = marker(readout,1);\n",
    "\n",
    "//Assign index and outputs\n",
    "assignWaveIndex(1,2,wI,1,2,wQ,0);\n",
    "\n",
    "//Execution, sequential averaging\n",
    "do {{\n",
    "  executeTableEntry(0);                   //Set start amplitude\n",
    "  repeat (num_amps-1) {{                  //Amplitude loop\n",
    "    repeat (num_aves) {{                  //Averaging loop      \n",
    "      waitDigTrigger(1);\n",
    "      resetOscPhase();                    //Reset the oscillator\n",
    "      \n",
    "      executeTableEntry(2);               //Play pulse\n",
    "      playWave(m);                        //Readout trigger\n",
    "      waitWave();\n",
    "    }}\n",
    "    executeTableEntry(1);                 //Increment amplitude\n",
    "    waitWave();\n",
    "  }}\n",
    "}} while (1);\n",
    "\"\"\""
   ]
  },
  {
   "cell_type": "code",
   "execution_count": 134,
   "metadata": {},
   "outputs": [],
   "source": [
    "# Disable internal trigger\n",
    "device.system.internaltrigger.enable(disable)\n",
    "\n",
    "# Define command table\n",
    "ct_schema = device.sgchannels[channel_index].awg.commandtable.load_validation_schema()\n",
    "ct_rabi = CommandTable(ct_schema)\n",
    "ct_rabi.table[0].waveform.playZero = True\n",
    "ct_rabi.table[0].waveform.length = 32\n",
    "ct_rabi.table[0].amplitude00.value = 0.0\n",
    "ct_rabi.table[0].amplitude00.increment = False\n",
    "ct_rabi.table[0].amplitude01.value = -0.0\n",
    "ct_rabi.table[0].amplitude01.increment = False\n",
    "ct_rabi.table[0].amplitude10.value = 0.0\n",
    "ct_rabi.table[0].amplitude10.increment = False\n",
    "ct_rabi.table[0].amplitude11.value = 0.0\n",
    "ct_rabi.table[0].amplitude11.increment = False\n",
    "\n",
    "ct_rabi.table[1].waveform.playZero = True\n",
    "ct_rabi.table[1].waveform.length = 32\n",
    "ct_rabi.table[1].amplitude00.value = 1/n_amps\n",
    "ct_rabi.table[1].amplitude00.increment = True\n",
    "ct_rabi.table[1].amplitude01.value = -1/n_amps\n",
    "ct_rabi.table[1].amplitude01.increment = True\n",
    "ct_rabi.table[1].amplitude10.value = 1/n_amps\n",
    "ct_rabi.table[1].amplitude10.increment = True\n",
    "ct_rabi.table[1].amplitude11.value = 1/n_amps\n",
    "ct_rabi.table[1].amplitude11.increment = True\n",
    "\n",
    "ct_rabi.table[2].waveform.index = 0\n"
   ]
  },
  {
   "cell_type": "code",
   "execution_count": 135,
   "metadata": {},
   "outputs": [],
   "source": [
    "# Upload sequence\n",
    "device.sgchannels[channel_index].awg.load_sequencer_program(seqc_rabi)\n",
    "\n",
    "# Upload command table\n",
    "device.sgchannels[channel_index].awg.commandtable.upload_to_device(ct_rabi)\n",
    "\n",
    "# Enable sequencer\n",
    "device.sgchannels[channel_index].awg.enable_sequencer(single = single)"
   ]
  },
  {
   "cell_type": "code",
   "execution_count": 136,
   "metadata": {},
   "outputs": [],
   "source": [
    "device.system.internaltrigger.enable(enable)"
   ]
  },
  {
   "cell_type": "markdown",
   "metadata": {},
   "source": [
    "# DRAG Pulse Calibration"
   ]
  },
  {
   "cell_type": "code",
   "execution_count": 137,
   "metadata": {},
   "outputs": [],
   "source": [
    "seqc_drag = f\"\"\"\n",
    "//Define constants\n",
    "const num_qscale = {n_qscale};\n",
    "const num_aves = {n_aves};\n",
    "const amp = {amp};\n",
    "const length = ceil(DEVICE_SAMPLE_RATE*{length}/32)*32;\n",
    "const readout = ceil(DEVICE_SAMPLE_RATE*{readout}/32)*32;\n",
    "const width = length/8;\n",
    "\n",
    "//Waveform definition\n",
    "wave wI = gauss(length,amp,length/2,width);\n",
    "wave wQ = drag(length,amp,length/2,width);\n",
    "wave m = marker(readout,1);\n",
    "\n",
    "//Assign index and outputs\n",
    "assignWaveIndex(1,2,wI,1,2,wQ,0);\n",
    "\n",
    "//Execution, sequential averaging\n",
    "do {{\n",
    "  executeTableEntry(0);                       //Set start amplitude\n",
    "  repeat (num_qscale-1) {{                    //Amplitude loop\n",
    "    repeat (num_aves) {{                      //Averaging loop      \n",
    "      waitDigTrigger(1);\n",
    "      resetOscPhase();                        //Reset the oscillator\n",
    "      \n",
    "      executeTableEntry(2);                   //Play pulse\n",
    "      playWave(m);                            //Readout trigger\n",
    "      waitWave();\n",
    "    }}\n",
    "    executeTableEntry(1);                     //Increment amplitude\n",
    "    waitWave();\n",
    "  }}\n",
    "}} while (1);\n",
    "\"\"\""
   ]
  },
  {
   "cell_type": "code",
   "execution_count": 138,
   "metadata": {},
   "outputs": [],
   "source": [
    "# Disable internal trigger\n",
    "device.system.internaltrigger.enable(disable)\n",
    "\n",
    "device.sgchannels[channel_index].oscs[1].frequency = osc2_frequency\n",
    "# Define command table\n",
    "ct_schema = device.sgchannels[channel_index].awg.commandtable.load_validation_schema()\n",
    "ct_drag = CommandTable(ct_schema)\n",
    "ct_drag.table[0].waveform.playZero = True\n",
    "ct_drag.table[0].waveform.length = 32\n",
    "ct_drag.table[0].amplitude00.value = amp\n",
    "ct_drag.table[0].amplitude00.increment = False\n",
    "ct_drag.table[0].amplitude01.value = -q_start\n",
    "ct_drag.table[0].amplitude01.increment = False\n",
    "ct_drag.table[0].amplitude10.value = amp\n",
    "ct_drag.table[0].amplitude10.increment = False\n",
    "ct_drag.table[0].amplitude11.value = q_start\n",
    "ct_drag.table[0].amplitude11.increment = False\n",
    "\n",
    "ct_drag.table[1].waveform.playZero = True\n",
    "ct_drag.table[1].waveform.length = 32\n",
    "ct_drag.table[1].amplitude01.value = -q_step\n",
    "ct_drag.table[1].amplitude01.increment = True\n",
    "ct_drag.table[1].amplitude11.value = q_step\n",
    "ct_drag.table[1].amplitude11.increment = True\n",
    "\n",
    "ct_drag.table[2].waveform.index = 0"
   ]
  },
  {
   "cell_type": "code",
   "execution_count": 139,
   "metadata": {},
   "outputs": [],
   "source": [
    "# Upload sequence\n",
    "device.sgchannels[channel_index].awg.load_sequencer_program(seqc_drag)\n",
    "\n",
    "# Upload command table\n",
    "device.sgchannels[channel_index].awg.commandtable.upload_to_device(ct_drag)\n",
    "\n",
    "# Enable sequencer\n",
    "device.sgchannels[channel_index].awg.enable_sequencer(single = single)"
   ]
  },
  {
   "cell_type": "code",
   "execution_count": 140,
   "metadata": {},
   "outputs": [],
   "source": [
    "device.system.internaltrigger.enable(enable)"
   ]
  },
  {
   "cell_type": "markdown",
   "metadata": {},
   "source": [
    "# Rabi in a 3-level system"
   ]
  },
  {
   "cell_type": "code",
   "execution_count": 141,
   "metadata": {},
   "outputs": [],
   "source": [
    "seqc_rabi = f\"\"\"\n",
    "//Define constants\n",
    "const num_amps = {n_amps};\n",
    "const num_aves = {n_aves};\n",
    "const amp = {amp};\n",
    "const length = ceil(DEVICE_SAMPLE_RATE*{length}/32)*32;\n",
    "const readout = ceil(DEVICE_SAMPLE_RATE*{readout}/32)*32;\n",
    "const width = length/8;\n",
    "\n",
    "//Waveform definition\n",
    "wave wI = gauss(length,amp,length/2,width);\n",
    "wave wQ = drag(length,amp,length/2,width);\n",
    "wave m = marker(readout,1);\n",
    "\n",
    "//Assign index and outputs\n",
    "assignWaveIndex(1,2,wI,1,2,wQ,0);\n",
    "\n",
    "//Execution, sequential averaging\n",
    "do {{\n",
    "  var amp = 0;\n",
    "  repeat (num_amps-1) {{                      //Amplitude loop\n",
    "    repeat (num_aves) {{                      //Averaging loop      \n",
    "      waitDigTrigger(1);\n",
    "      resetOscPhase();                        //Reset the oscillator\n",
    "      \n",
    "      executeTableEntry(num_amps);\n",
    "      executeTableEntry(amp);                 //Play pulse\n",
    "      \n",
    "      playWave(m);                            //Readout trigger\n",
    "      waitWave();\n",
    "    }}\n",
    "    amp += 1;\n",
    "    waitWave();\n",
    "  }}\n",
    "}} while (1);\n",
    "\"\"\""
   ]
  },
  {
   "cell_type": "code",
   "execution_count": 142,
   "metadata": {},
   "outputs": [],
   "source": [
    "# Disable internal trigger\n",
    "device.system.internaltrigger.enable(disable)\n",
    "\n",
    "device.sgchannels[channel_index].oscs[1].frequency = osc2_frequency\n",
    "# Define command table\n",
    "ct_rabi.clear()\n",
    "ct_schema = device.sgchannels[channel_index].awg.commandtable.load_validation_schema()\n",
    "ct_rabi = CommandTable(ct_schema)\n",
    "\n",
    "for i in range(n_amps):\n",
    "    ct_rabi.table[i].waveform.index = 0\n",
    "    ct_rabi.table[i].amplitude00.value = i/n_amps\n",
    "    ct_rabi.table[i].amplitude00.increment = False\n",
    "    ct_rabi.table[i].amplitude01.value = 0\n",
    "    ct_rabi.table[i].amplitude01.increment = False\n",
    "    ct_rabi.table[i].amplitude10.value = i/n_amps\n",
    "    ct_rabi.table[i].amplitude10.increment = False\n",
    "    ct_rabi.table[i].amplitude11.value = 0\n",
    "    ct_rabi.table[i].amplitude11.increment = False\n",
    "    ct_rabi.table[i].oscillatorSelect.value = 1\n",
    "\n",
    "ct_rabi.table[n_amps].waveform.index = 0\n",
    "ct_rabi.table[n_amps].amplitude00.value = 0.6\n",
    "ct_rabi.table[n_amps].amplitude00.increment = False\n",
    "ct_rabi.table[n_amps].amplitude01.value = -0.6\n",
    "ct_rabi.table[n_amps].amplitude01.increment = False\n",
    "ct_rabi.table[n_amps].amplitude10.value = 0.6\n",
    "ct_rabi.table[n_amps].amplitude10.increment = False\n",
    "ct_rabi.table[n_amps].amplitude11.value = 0.6\n",
    "ct_rabi.table[n_amps].amplitude11.increment = False\n",
    "ct_rabi.table[n_amps].oscillatorSelect.value = 0"
   ]
  },
  {
   "cell_type": "code",
   "execution_count": 143,
   "metadata": {},
   "outputs": [],
   "source": [
    "# Upload sequence\n",
    "device.sgchannels[channel_index].awg.load_sequencer_program(seqc_rabi)\n",
    "\n",
    "# Upload command table\n",
    "device.sgchannels[channel_index].awg.commandtable.upload_to_device(ct_rabi)\n",
    "\n",
    "# Enable sequencer\n",
    "device.sgchannels[channel_index].awg.enable_sequencer(single = single)"
   ]
  },
  {
   "cell_type": "code",
   "execution_count": 144,
   "metadata": {},
   "outputs": [],
   "source": [
    "device.system.internaltrigger.enable(enable)"
   ]
  },
  {
   "cell_type": "markdown",
   "metadata": {},
   "source": [
    "# Randomized Benchmarking"
   ]
  },
  {
   "cell_type": "code",
   "execution_count": 78,
   "metadata": {},
   "outputs": [],
   "source": [
    "# Define an envelope function for single qubit gates (Gaussian with width = length / 3)\n",
    "def pulse_envelope(amplitude, length, phase, sigma=1/3, sample_rate=2.0e9, tol=15):\n",
    "    #ensure waveform length is integer multiple of 16\n",
    "    samples = round(sample_rate * length/ 16) * 16\n",
    "    x = np.linspace(-1, 1, samples)\n",
    "    # output is complex, so that phase determines the gate rotation axis\n",
    "    y = amplitude * np.exp(-x**2 / sigma**2 + 1j * np.deg2rad(phase))\n",
    "\n",
    "    return y.round(tol)"
   ]
  },
  {
   "cell_type": "code",
   "execution_count": 31,
   "metadata": {},
   "outputs": [],
   "source": [
    "# All elements of the Clifford group, according to the definition in arXiv:1410.2338\n",
    "clifford_params = [\n",
    "    ['I'],\n",
    "    ['Y/2', 'X/2'],\n",
    "    ['-X/2', '-Y/2'],\n",
    "    ['X'],\n",
    "    ['-Y/2', '-X/2'],\n",
    "    ['X/2', '-Y/2'],\n",
    "    ['Y'],\n",
    "    ['-Y/2', 'X/2'],\n",
    "    ['X/2', 'Y/2'],\n",
    "    ['X', 'Y'],\n",
    "    ['Y/2', '-X/2'],\n",
    "    ['-X/2', 'Y/2'],\n",
    "    ['Y/2', 'X'],\n",
    "    ['-X/2'],\n",
    "    ['X/2', '-Y/2', '-X/2'],\n",
    "    ['-Y/2'],\n",
    "    ['X/2'],\n",
    "    ['X/2', 'Y/2', 'X/2'],\n",
    "    ['-Y/2', 'X'],\n",
    "    ['X/2', 'Y'],\n",
    "    ['X/2', '-Y/2', 'X/2'],\n",
    "    ['Y/2'],\n",
    "    ['-X/2', 'Y'],\n",
    "    ['X/2', 'Y/2', '-X/2']\n",
    "]\n",
    "\n",
    "clifford_len = len(clifford_params)\n",
    "\n",
    "# Parameters of basic single qubit pulses\n",
    "pulses_params = {\n",
    "    'I': {'amplitude':0.0, 'length': pi_length, 'phase': 0.0},\n",
    "    'X': {'amplitude':pi_amplitude, 'length': pi_length, 'phase': 0.0},\n",
    "    'Y': {'amplitude':pi_amplitude, 'length': pi_length, 'phase': 90.0},\n",
    "    'X/2': {'amplitude':pi2_amplitude, 'length': pi2_length, 'phase': 0.0},\n",
    "    'Y/2': {'amplitude':pi2_amplitude, 'length': pi2_length, 'phase': 90.0},\n",
    "    '-X/2': {'amplitude':pi2_amplitude, 'length': pi2_length, 'phase': 0.0-180.0},\n",
    "    '-Y/2': {'amplitude':pi2_amplitude, 'length': pi2_length, 'phase': 90.0-180.0},\n",
    "}\n",
    "\n",
    "# calculate complex waveforms for single qubit elementary pulses\n",
    "pulses_waves = {pulse_type: pulse_envelope(**pulse_param) for (pulse_type, pulse_param) in pulses_params.items()}\n",
    "# calculate complex waveforms for each of the Clifford gates\n",
    "clifford_waves = [np.concatenate([pulses_waves[i] for i in clifford_gate]) for clifford_gate in clifford_params]\n",
    "\n",
    "# divide real and complex part of waveforms into I and Q channel outputs\n",
    "clifford_waves_real = [(np.real(wave), np.imag(wave)) for wave in clifford_waves]"
   ]
  },
  {
   "cell_type": "code",
   "execution_count": 145,
   "metadata": {},
   "outputs": [],
   "source": [
    "# Waveform definition: allocating the waveform memory for the SeqC program\n",
    "waveforms_def = \"\"\n",
    "for i,wave in enumerate(clifford_waves):\n",
    "    wave_len = len(wave)\n",
    "    waveforms_def += f\"assignWaveIndex(1,2,placeholder({wave_len}),1,2,placeholder({wave_len}),{i});\"\n",
    "\n",
    "# Define waveforms for waveform table\n",
    "waveforms_rb = Waveforms()\n",
    "for i in range(clifford_len):\n",
    "    waveforms_rb[i] = (clifford_waves_real[i][0], clifford_waves_real[i][1])"
   ]
  },
  {
   "cell_type": "code",
   "execution_count": 146,
   "metadata": {},
   "outputs": [],
   "source": [
    "seqc_rb = f\"\"\"\n",
    "//Define constants\n",
    "const clifford_len = {clifford_len};\n",
    "const num_aves = {n_aves};\n",
    "const readout = ceil(DEVICE_SAMPLE_RATE*{readout}/32)*32;\n",
    "\n",
    "//Waveform definition\n",
    "{waveforms_def}\n",
    "wave m = marker(readout,1);\n",
    "\n",
    "//Runtime parameters, set by user registers\n",
    "//Sequence length\n",
    "var m1 = getUserReg({awg_register_m1});\n",
    "//PRNG seed\n",
    "var seed = getUserReg({awg_register_seed});\n",
    "//Recovery gate index\n",
    "var recovery = getUserReg({awg_register_recovery});\n",
    "\n",
    "//Configure the PRNG\n",
    "setPRNGRange(0, clifford_len - 1);\n",
    "\n",
    "//Execution, sequential averaging\n",
    "while (1) {{\n",
    "  var amp = 0;\n",
    "  repeat (num_aves) {{                      //Averaging loop     \n",
    "    // Initialize the PRNG\n",
    "    setPRNGSeed(seed);\n",
    "    \n",
    "    waitDigTrigger(1);\n",
    "    resetOscPhase();                        //Reset the oscillator\n",
    "    \n",
    "    // (Pseudo)-Random sequence of command table entries\n",
    "    repeat (m1) {{\n",
    "      var gate = getPRNGValue();\n",
    "      executeTableEntry(gate);\n",
    "    }}\n",
    "    executeTableEntry(recovery);            //Final recovery gate\n",
    "    \n",
    "    playWave(m);                            //Readout trigger\n",
    "    waitWave();\n",
    "  }}\n",
    "}}\n",
    "\"\"\""
   ]
  },
  {
   "cell_type": "code",
   "execution_count": 147,
   "metadata": {},
   "outputs": [],
   "source": [
    "# Disable internal trigger\n",
    "device.system.internaltrigger.enable(disable)\n",
    "\n",
    "# Define command table\n",
    "ct_schema = device.sgchannels[channel_index].awg.commandtable.load_validation_schema()\n",
    "ct_rb = CommandTable(ct_schema)\n",
    "for i in range(clifford_len):\n",
    "    ct_rb.table[i].waveform.index = i"
   ]
  },
  {
   "cell_type": "code",
   "execution_count": 148,
   "metadata": {},
   "outputs": [],
   "source": [
    "# Upload sequence\n",
    "device.sgchannels[channel_index].awg.load_sequencer_program(seqc_rb)\n",
    "\n",
    "# Upload waveforms\n",
    "device.sgchannels[channel_index].awg.write_to_waveform_memory(waveforms_rb)\n",
    "\n",
    "# Upload command table\n",
    "device.sgchannels[channel_index].awg.commandtable.upload_to_device(ct_rb)\n",
    "\n",
    "# Enable sequencer\n",
    "device.sgchannels[channel_index].awg.enable_sequencer(single = single)"
   ]
  },
  {
   "cell_type": "code",
   "execution_count": 152,
   "metadata": {},
   "outputs": [],
   "source": [
    "# Define number of seeds and gates. Try playing around with these values!\n",
    "m1             = 10667\n",
    "seed           = 123321431\n",
    "recovery       = 3\n",
    "\n",
    "# Set user register values\n",
    "with device.set_transaction():\n",
    "    device.sgchannels[channel_index].awg.userregs[awg_register_m1](m1)\n",
    "    device.sgchannels[channel_index].awg.userregs[awg_register_seed](seed)\n",
    "    device.sgchannels[channel_index].awg.userregs[awg_register_recovery](recovery)\n",
    "\n",
    "# Enable sequencer\n",
    "device.sgchannels[channel_index].awg.enable(disable)\n",
    "device.sgchannels[channel_index].awg.enable_sequencer(single = single)"
   ]
  },
  {
   "cell_type": "code",
   "execution_count": 150,
   "metadata": {},
   "outputs": [],
   "source": [
    "device.system.internaltrigger.enable(enable)"
   ]
  },
  {
   "cell_type": "markdown",
   "metadata": {},
   "source": [
    "# Turn of Internal Trigger"
   ]
  },
  {
   "cell_type": "code",
   "execution_count": 117,
   "metadata": {},
   "outputs": [],
   "source": [
    "with device.set_transaction():\n",
    "    device.system.internaltrigger.enable(disable)\n",
    "    device.sgchannels[channel_index].awg.enable(disable)"
   ]
  },
  {
   "cell_type": "code",
   "execution_count": null,
   "metadata": {},
   "outputs": [],
   "source": []
  }
 ],
 "metadata": {
  "interpreter": {
   "hash": "e713fa19db1f759ad90be5cfca3f4e8e7b0e5fcd7920c83594711f212238b913"
  },
  "kernelspec": {
   "display_name": "Python 3.8.5 ('base')",
   "language": "python",
   "name": "python3"
  },
  "language_info": {
   "codemirror_mode": {
    "name": "ipython",
    "version": 3
   },
   "file_extension": ".py",
   "mimetype": "text/x-python",
   "name": "python",
   "nbconvert_exporter": "python",
   "pygments_lexer": "ipython3",
   "version": "3.8.5"
  },
  "orig_nbformat": 2
 },
 "nbformat": 4,
 "nbformat_minor": 2
}
