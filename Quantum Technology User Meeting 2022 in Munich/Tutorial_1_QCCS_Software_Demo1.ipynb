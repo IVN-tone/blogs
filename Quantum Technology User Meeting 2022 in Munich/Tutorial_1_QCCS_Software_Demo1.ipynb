{
 "cells": [
  {
   "cell_type": "markdown",
   "id": "0e1a4b23",
   "metadata": {},
   "source": [
    "# QT User Meeting Tutorial 1 - Demo 1\n",
    "## Qubit spectroscopy of a finFET\n",
    "\n",
    "Copyright (C) 2022 Zurich Instruments\n",
    "\n",
    "This software may be modified and distributed under the terms of the MIT license. See the LICENSE file for details."
   ]
  },
  {
   "cell_type": "markdown",
   "id": "46cfbe23",
   "metadata": {},
   "source": [
    "# 0. General Imports"
   ]
  },
  {
   "cell_type": "code",
   "execution_count": null,
   "id": "9c56cac7",
   "metadata": {
    "ExecuteTime": {
     "end_time": "2021-10-01T06:52:59.392055Z",
     "start_time": "2021-10-01T06:52:57.155702Z"
    }
   },
   "outputs": [],
   "source": [
    "%config IPCompleter.greedy=True\n",
    "\n",
    "import matplotlib.pyplot as plt\n",
    "import numpy as np\n",
    "import time\n",
    "from random import random\n",
    "\n",
    "from qccs.simple import *\n",
    "from qccs.pulse_sheet_viewer.pulse_sheet_viewer import show_pulse_sheet\n"
   ]
  },
  {
   "cell_type": "markdown",
   "id": "e66d0291",
   "metadata": {},
   "source": [
    "# 1. Device Setup and Calibration"
   ]
  },
  {
   "cell_type": "markdown",
   "id": "a36a3823",
   "metadata": {},
   "source": [
    "## 1.1 Define device setup"
   ]
  },
  {
   "cell_type": "code",
   "execution_count": null,
   "id": "f142cff7",
   "metadata": {},
   "outputs": [],
   "source": [
    "descriptor=f\"\"\"\\\n",
    "instrument_list:\n",
    "  HDAWG:\n",
    "  - address: DEV8297\n",
    "    uid: device_hdawg \n",
    "connections:\n",
    "  device_hdawg:    \n",
    "    - iq_signal: q0/drive_line\n",
    "      ports: [SIGOUTS/0, SIGOUTS/1]\n",
    "    - rf_signal: q0/coulomb_line_1\n",
    "      ports: [SIGOUTS/2]        \n",
    "    - rf_signal: q0/coulomb_line_2\n",
    "      ports: [SIGOUTS/3]\n",
    "\"\"\""
   ]
  },
  {
   "cell_type": "markdown",
   "id": "332a893d",
   "metadata": {},
   "source": [
    "## 1.2 Calibration"
   ]
  },
  {
   "cell_type": "code",
   "execution_count": null,
   "id": "3fce9ed6",
   "metadata": {
    "ExecuteTime": {
     "end_time": "2021-10-01T06:53:06.914501Z",
     "start_time": "2021-10-01T06:53:06.893519Z"
    }
   },
   "outputs": [],
   "source": [
    "def calibrate_devices(device_setup):\n",
    "    \n",
    "    device_setup.logical_signal_groups[\"q0\"].logical_signals[\"drive_line\"].calibration = SignalCalibration(\n",
    "        oscillator=Oscillator(\n",
    "            uid=\"drive_q0_osc\",\n",
    "            frequency=123e6,\n",
    "            modulation_type=ModulationType.HARDWARE),\n",
    "    )"
   ]
  },
  {
   "cell_type": "markdown",
   "id": "252873da",
   "metadata": {},
   "source": [
    "## 1.3 Create device setup"
   ]
  },
  {
   "cell_type": "code",
   "execution_count": null,
   "id": "d8279bdb",
   "metadata": {},
   "outputs": [],
   "source": [
    "device_setup = DeviceSetup.from_descriptor(\n",
    "    descriptor,\n",
    "    server_host='localhost',\n",
    "    server_port=8004,\n",
    "    setup_name='MySetup',\n",
    ") \n",
    "calibrate_devices(device_setup)"
   ]
  },
  {
   "cell_type": "markdown",
   "id": "04cd28fe",
   "metadata": {},
   "source": [
    "# 2. Pulsed Qubit Spectroscopy"
   ]
  },
  {
   "cell_type": "markdown",
   "metadata": {},
   "source": [
    "## 2.1 Define pulses"
   ]
  },
  {
   "cell_type": "code",
   "execution_count": null,
   "metadata": {},
   "outputs": [],
   "source": [
    "## constant definition\n",
    "len_cycle_coulomb = 400e-9\n",
    "\n",
    "# define three stages of gate pulses\n",
    "coulomb_reset = pulse_library.const(\n",
    "    uid=\"coulomb_reset\", length=len_cycle_coulomb/2, amplitude=0.5\n",
    "    )\n",
    "coulomb_manipulate = pulse_library.const(\n",
    "    uid=\"coulomb_manipulate\", length=len_cycle_coulomb/2, amplitude=0.75\n",
    "    )\n",
    "\n",
    "# define drive pulse\n",
    "drive_pulse = pulse_library.gaussian(\n",
    "    uid=\"drive_pulse\", length=len_cycle_coulomb/3, amplitude=1\n",
    ")"
   ]
  },
  {
   "cell_type": "markdown",
   "id": "687ff6a6",
   "metadata": {},
   "source": [
    "## 2.2 Define the Experiment"
   ]
  },
  {
   "cell_type": "code",
   "execution_count": null,
   "id": "2c7cc860",
   "metadata": {
    "ExecuteTime": {
     "end_time": "2021-10-01T06:55:24.645031Z",
     "start_time": "2021-10-01T06:55:06.983252Z"
    }
   },
   "outputs": [],
   "source": [
    "## Create Experiment\n",
    "exp = Experiment(\n",
    "    \"Pulsed Qubit Spectroscopy\",\n",
    "    signals=[\n",
    "        ExperimentSignal(\"drive\"),\n",
    "        ExperimentSignal(\"coulomb_1\"),\n",
    "        ExperimentSignal(\"coulomb_2\"),\n",
    "    ],\n",
    ")\n",
    "\n",
    "\n",
    "#calculate number of repetitions based on integration time\n",
    "int_time = 2000e-9    # integration time in [s]\n",
    "num_rep = int(int_time/len_cycle_coulomb)\n",
    "print(f\"Number of repetitions for {int_time*1e3} ms integration time: {num_rep}\")\n",
    "\n",
    "\n",
    "# define pulse sequence\n",
    "with exp.acquire_loop_rt(uid=(\"shots\"), count=num_rep):\n",
    "    with exp.section(uid=(\"initialize\"), length=len_cycle_coulomb/2, alignment=SectionAlignment.RIGHT):\n",
    "        exp.play(signal=\"coulomb_1\", pulse=coulomb_reset, amplitude=0.5)\n",
    "        exp.play(signal=\"coulomb_2\", pulse=coulomb_reset, amplitude=0.5)\n",
    "\n",
    "    with exp.section(uid=(\"manipulation\"), length=len_cycle_coulomb/2, alignment=SectionAlignment.RIGHT):\n",
    "        exp.play(signal=\"coulomb_1\", pulse=coulomb_manipulate, amplitude=0.75)\n",
    "        exp.play(signal=\"coulomb_2\", pulse=coulomb_manipulate, amplitude=0.75)\n",
    "\n",
    "        exp.play(signal=\"drive\", pulse=drive_pulse)"
   ]
  },
  {
   "cell_type": "markdown",
   "id": "3dc3e8c3",
   "metadata": {},
   "source": [
    "## 2.3 Run the Experiment"
   ]
  },
  {
   "cell_type": "code",
   "execution_count": null,
   "id": "6da91aa2",
   "metadata": {},
   "outputs": [],
   "source": [
    "# create and connect to session\n",
    "session = Session(device_setup=device_setup)\n",
    "session.connect(do_emulation=True)"
   ]
  },
  {
   "cell_type": "code",
   "execution_count": null,
   "id": "eb3407dd",
   "metadata": {},
   "outputs": [],
   "source": [
    "# define signal maps for different qubits\n",
    "map_q0 = {\n",
    "    \"drive\": \"/logical_signal_groups/q0/drive_line\",\n",
    "    \"coulomb_1\": \"/logical_signal_groups/q0/coulomb_line_1\",\n",
    "    \"coulomb_2\": \"/logical_signal_groups/q0/coulomb_line_2\",\n",
    "}"
   ]
  },
  {
   "cell_type": "code",
   "execution_count": null,
   "id": "435c6852",
   "metadata": {},
   "outputs": [],
   "source": [
    "# set experiment calibration and signal map\n",
    "exp.set_signal_map(map_q0)"
   ]
  },
  {
   "cell_type": "code",
   "execution_count": null,
   "id": "cd4a6080",
   "metadata": {},
   "outputs": [],
   "source": [
    "compiled_experiment = session.compile(exp)"
   ]
  },
  {
   "cell_type": "code",
   "execution_count": null,
   "id": "4687b58c",
   "metadata": {},
   "outputs": [],
   "source": [
    "session.run(compiled_experiment);"
   ]
  },
  {
   "cell_type": "markdown",
   "id": "05562c77",
   "metadata": {},
   "source": [
    "## 2.4 Plot the Results"
   ]
  },
  {
   "cell_type": "code",
   "execution_count": null,
   "id": "bfb4a5c1",
   "metadata": {},
   "outputs": [],
   "source": [
    "show_pulse_sheet(\"Qubit Spectroscopy\",session.compiled_experiment)"
   ]
  },
  {
   "cell_type": "code",
   "execution_count": null,
   "id": "a286c938",
   "metadata": {},
   "outputs": [],
   "source": [
    "Plotter.plot(session.results)"
   ]
  },
  {
   "cell_type": "markdown",
   "id": "bc2c27f8",
   "metadata": {},
   "source": [
    "# 3 Connect to QCoDeS"
   ]
  },
  {
   "cell_type": "code",
   "execution_count": null,
   "id": "abda368b",
   "metadata": {},
   "outputs": [],
   "source": [
    "import qcodes as qc\n",
    "from qcodes.tests.instrument_mocks import DummyInstrument"
   ]
  },
  {
   "cell_type": "code",
   "execution_count": null,
   "id": "cfe83f26",
   "metadata": {},
   "outputs": [],
   "source": [
    "# generate dummy instruments\n",
    "my_magnet = DummyInstrument(name='magnet', gates=['Bx', 'By', 'Bz'])\n",
    "my_LO = DummyInstrument(name='RF_source', gates=['P', 'f'])"
   ]
  },
  {
   "cell_type": "code",
   "execution_count": null,
   "id": "494b76a7",
   "metadata": {},
   "outputs": [],
   "source": [
    "def set_magnet(session, value):\n",
    "    my_magnet.Bx.set(value)     # set new value in mT\n",
    "    time.sleep(0.1)             # settling time\n",
    "    return my_magnet.Bx.get()       # return new value\n",
    "\n",
    "def set_frequency(session, value):\n",
    "    my_LO.f.set(value)          # set new value in MHz\n",
    "    time.sleep(0.1)             # settling time\n",
    "    return my_LO.f.get()            # return new value\n",
    "\n",
    "def my_readout(session, Bvalue, fvalue):\n",
    "    # example: get datapoint or timetrace from Lock-in\n",
    "    # here: simple print of current settings\n",
    "    print(f\"Magnet at {Bvalue} mT and frequency at {fvalue} MHz.\")\n",
    "    return random()"
   ]
  },
  {
   "cell_type": "markdown",
   "id": "0b4fea83",
   "metadata": {},
   "source": [
    "## 3.1 Define sweep parameter"
   ]
  },
  {
   "cell_type": "code",
   "execution_count": null,
   "id": "497db5b5",
   "metadata": {},
   "outputs": [],
   "source": [
    "magnet_sweep = LinearSweepParameter(\n",
    "    uid=\"Bfield_sweep\", start=-400, stop=400, count=9, axis_name=\"Magnetic field (mT)\"\n",
    ")\n",
    "\n",
    "frequency_sweep = LinearSweepParameter(\n",
    "    uid=\"frequency_sweep\", start=0, stop=400, count=5, axis_name=\"Frequency (MHz)\"\n",
    ")"
   ]
  },
  {
   "cell_type": "markdown",
   "id": "55f9133a",
   "metadata": {},
   "source": [
    "## 3.2 Define Experiment"
   ]
  },
  {
   "cell_type": "code",
   "execution_count": null,
   "id": "345a62cd",
   "metadata": {},
   "outputs": [],
   "source": [
    "## Create Experiment\n",
    "exp = Experiment(\n",
    "    \"Pulsed Qubit Spectroscopy\",\n",
    "    signals=[\n",
    "        ExperimentSignal(\"drive\"),\n",
    "        ExperimentSignal(\"coulomb_1\"),\n",
    "        ExperimentSignal(\"coulomb_2\"),\n",
    "    ],\n",
    ")\n",
    "\n",
    "\n",
    "#calculate number of repetitions based on integration time\n",
    "int_time = 2000e-9    # integration time in [s]\n",
    "num_rep = int(int_time/len_cycle_coulomb)\n",
    "print(f\"Number of repetitions for {int_time*1e3} ms integration time: {num_rep}\")\n",
    "\n",
    "\n",
    "# define pulse sequence\n",
    "\n",
    "# outer sweep: step magnetic field\n",
    "with exp.sweep(uid=\"Bfield_sweep\", parameter=magnet_sweep):\n",
    "    exp.call(set_magnet, value=magnet_sweep)\n",
    "\n",
    "    # inner sweep: step frequency of RF source\n",
    "    with exp.sweep(uid=\"frequency_sweep\", parameter=frequency_sweep):\n",
    "        exp.call(set_frequency, value=frequency_sweep)\n",
    "\n",
    "        # innermost part: play pulse sequence\n",
    "        with exp.acquire_loop_rt(uid=(\"shots\"), count=num_rep):\n",
    "            with exp.section(uid=(\"initialize\"), length=len_cycle_coulomb/2, alignment=SectionAlignment.RIGHT):\n",
    "                exp.play(signal=\"coulomb_1\", pulse=coulomb_reset, amplitude=0.5)\n",
    "                exp.play(signal=\"coulomb_2\", pulse=coulomb_reset, amplitude=0.5)\n",
    "\n",
    "            with exp.section(uid=(\"manipulation\"), length=len_cycle_coulomb/2, alignment=SectionAlignment.RIGHT):\n",
    "                exp.play(signal=\"coulomb_1\", pulse=coulomb_manipulate, amplitude=0.75)\n",
    "                exp.play(signal=\"coulomb_2\", pulse=coulomb_manipulate, amplitude=0.75)\n",
    "\n",
    "                exp.play(signal=\"drive\", pulse=drive_pulse)\n",
    "        \n",
    "        # readout: e.g. get value from Lock-in\n",
    "        exp.call(my_readout, Bvalue=magnet_sweep, fvalue=frequency_sweep)"
   ]
  },
  {
   "cell_type": "markdown",
   "id": "0f5e9dca",
   "metadata": {},
   "source": [
    "## 3.3 Run the Experiment"
   ]
  },
  {
   "cell_type": "code",
   "execution_count": null,
   "id": "435c6852",
   "metadata": {},
   "outputs": [],
   "source": [
    "# create and connect to session\n",
    "session = Session(device_setup=device_setup)\n",
    "session.connect(do_emulation=True)\n",
    "\n",
    "# set experiment calibration and signal map\n",
    "exp.set_signal_map(map_q0)\n",
    "\n",
    "# register user functions\n",
    "session.register_user_function(set_magnet)\n",
    "session.register_user_function(set_frequency)\n",
    "session.register_user_function(my_readout)\n",
    "\n",
    "# compile and run the experiment\n",
    "session.run_all(exp)"
   ]
  },
  {
   "cell_type": "code",
   "execution_count": null,
   "id": "033e01e9",
   "metadata": {},
   "outputs": [],
   "source": [
    "fig = plt.figure()\n",
    "datapoints = session.results.user_func_results['my_readout']\n",
    "datapoints = np.array(datapoints).reshape(magnet_sweep.count, frequency_sweep.count)\n",
    "\n",
    "plt.imshow(datapoints, extent=[frequency_sweep.start, frequency_sweep.stop, magnet_sweep.start, magnet_sweep.stop])\n",
    "plt.xlabel(frequency_sweep.axis_name)\n",
    "plt.ylabel(magnet_sweep.axis_name)\n",
    "plt.show()"
   ]
  }
 ],
 "metadata": {
  "hide_input": false,
  "kernelspec": {
   "display_name": "Python 3.8.11 ('MyQcodesEnv')",
   "language": "python",
   "name": "python3"
  },
  "language_info": {
   "codemirror_mode": {
    "name": "ipython",
    "version": 3
   },
   "file_extension": ".py",
   "mimetype": "text/x-python",
   "name": "python",
   "nbconvert_exporter": "python",
   "pygments_lexer": "ipython3",
   "version": "3.8.11"
  },
  "toc": {
   "base_numbering": 1,
   "nav_menu": {},
   "number_sections": true,
   "sideBar": true,
   "skip_h1_title": false,
   "title_cell": "Table of Contents",
   "title_sidebar": "Contents",
   "toc_cell": false,
   "toc_position": {},
   "toc_section_display": true,
   "toc_window_display": true
  },
  "varInspector": {
   "cols": {
    "lenName": 16,
    "lenType": 16,
    "lenVar": 40
   },
   "kernels_config": {
    "python": {
     "delete_cmd_postfix": "",
     "delete_cmd_prefix": "del ",
     "library": "var_list.py",
     "varRefreshCmd": "print(var_dic_list())"
    },
    "r": {
     "delete_cmd_postfix": ") ",
     "delete_cmd_prefix": "rm(",
     "library": "var_list.r",
     "varRefreshCmd": "cat(var_dic_list()) "
    }
   },
   "types_to_exclude": [
    "module",
    "function",
    "builtin_function_or_method",
    "instance",
    "_Feature"
   ],
   "window_display": false
  },
  "vscode": {
   "interpreter": {
    "hash": "e246a1dff379dae57e93334b1470e42a0e319b987494b841af57ed5cfd410014"
   }
  }
 },
 "nbformat": 4,
 "nbformat_minor": 5
}
