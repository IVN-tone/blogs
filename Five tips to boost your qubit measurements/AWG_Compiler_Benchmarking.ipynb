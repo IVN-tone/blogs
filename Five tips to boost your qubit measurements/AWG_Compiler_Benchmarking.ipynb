{
 "cells": [
  {
   "cell_type": "markdown",
   "metadata": {},
   "source": [
    "# Waveform benchmarking\n",
    "Reduced version of the script of the blog post [Randomized benchmarking in seconds](https://www.zhinst.com/blogs/randomized-benchmarking-seconds) to benchmark the compiler\n",
    "\n",
    "It DOESN'T shows best practices to perform Randomized Benchmarking, it only benchmark certain aspects of the AWG compiler. Please refer to the original blog post and code for optimal Randomized Benchmarking strategies. "
   ]
  },
  {
   "cell_type": "markdown",
   "metadata": {},
   "source": [
    "Select the ziPython version, then reload the kernel (limitation of Jupyter)"
   ]
  },
  {
   "cell_type": "code",
   "execution_count": null,
   "metadata": {},
   "outputs": [],
   "source": [
    "#%pip install zhinst==22.2.26577\n",
    "%pip install zhinst==22.2.29711 "
   ]
  },
  {
   "cell_type": "markdown",
   "metadata": {},
   "source": [
    "## Import and dataserver setup"
   ]
  },
  {
   "cell_type": "code",
   "execution_count": null,
   "metadata": {
    "tags": []
   },
   "outputs": [],
   "source": [
    "## Import of required modules\n",
    "import zhinst.toolkit\n",
    "import zhinst.ziPython\n",
    "\n",
    "import time\n",
    "import numpy as np\n",
    "import json\n",
    "from scipy.linalg import expm\n",
    "import random\n",
    "import os, os.path, tempfile\n",
    "import textwrap"
   ]
  },
  {
   "cell_type": "code",
   "execution_count": null,
   "metadata": {},
   "outputs": [],
   "source": [
    "## Define the parameters of your instrument and dataserver\n",
    "# The script uses a HDAWG to compare CSV and placeholder waveforms, and a SHFSG\n",
    "# to compare different compiler versions\n",
    "\n",
    "# dataserver IP address - may be localhost or any IP running the LabOne dataserver\n",
    "# dataserver_host = 'localhost'\n",
    "dataserver_host = 'localhost'\n",
    "\n",
    "# HDAWG device name\n",
    "# dev_hd = 'devYYYY'\n",
    "dev_hd = 'dev8000'\n",
    "\n",
    "# SHFSG device name\n",
    "# dev_sg = 'devYYYYY'\n",
    "dev_sg = 'dev12000'"
   ]
  },
  {
   "cell_type": "code",
   "execution_count": null,
   "metadata": {},
   "outputs": [],
   "source": [
    "#to save time, it's possible to skip the calculation of the recovery gate and put a dummy one\n",
    "#just for benchmarking of the instruments, not for operation\n",
    "real_rb = False"
   ]
  },
  {
   "cell_type": "code",
   "execution_count": null,
   "metadata": {},
   "outputs": [],
   "source": [
    "#connect to the devices\n",
    "session = zhinst.toolkit.Session(dataserver_host)\n",
    "devicehd = session.connect_device(dev_hd)\n",
    "devicesg = session.connect_device(dev_sg)"
   ]
  },
  {
   "cell_type": "markdown",
   "metadata": {
    "tags": []
   },
   "source": [
    "# Randomized Benchmarking definitions"
   ]
  },
  {
   "cell_type": "markdown",
   "metadata": {
    "heading_collapsed": "true",
    "tags": []
   },
   "source": [
    "## Clifford gates"
   ]
  },
  {
   "cell_type": "markdown",
   "metadata": {
    "tags": []
   },
   "source": [
    "#### amplitudes (in units of max amplitude) and length (in s) for basic gates "
   ]
  },
  {
   "cell_type": "code",
   "execution_count": null,
   "metadata": {},
   "outputs": [],
   "source": [
    "pi_amplitude = 1.0\n",
    "pi_length = 240e-9\n",
    "pi2_amplitude = 0.5\n",
    "pi2_length = 240e-9"
   ]
  },
  {
   "cell_type": "markdown",
   "metadata": {
    "tags": []
   },
   "source": [
    "#### define an envelope function for single qubit gates - here: Gaussian with width = length / 3"
   ]
  },
  {
   "cell_type": "code",
   "execution_count": null,
   "metadata": {},
   "outputs": [],
   "source": [
    "def pulse_envelope(amplitude, length, phase, sigma=1/3, sample_rate=2.4e9, tol=15):\n",
    "    #sigma = 1/3\n",
    "    # ensure waveform length is integer multiple of 16\n",
    "    samples = round(sample_rate * length / 16) * 16\n",
    "    x = np.linspace(-1, 1, samples)\n",
    "    # output is complex, where phase later determines the gate rotation axis\n",
    "    y = amplitude * np.exp(-x**2 / sigma**2 + 1j * np.deg2rad(phase))\n",
    "    \n",
    "    return y.round(tol)"
   ]
  },
  {
   "cell_type": "markdown",
   "metadata": {
    "tags": []
   },
   "source": [
    "#### build the clifford gates out of the elementary single qubit gates"
   ]
  },
  {
   "cell_type": "code",
   "execution_count": null,
   "metadata": {},
   "outputs": [],
   "source": [
    "# all elements of the Clifford group, according to defintion in arXiv:1410.2338\n",
    "clifford_params = [\n",
    "    ['I'],\n",
    "    ['Y/2', 'X/2'],\n",
    "    ['-X/2', '-Y/2'],\n",
    "    ['X'],\n",
    "    ['-Y/2', '-X/2'],\n",
    "    ['X/2', '-Y/2'],\n",
    "    ['Y'],\n",
    "    ['-Y/2', 'X/2'],\n",
    "    ['X/2', 'Y/2'],\n",
    "    ['X', 'Y'],\n",
    "    ['Y/2', '-X/2'],\n",
    "    ['-X/2', 'Y/2'],\n",
    "    ['Y/2', 'X'],\n",
    "    ['-X/2'],\n",
    "    ['X/2', '-Y/2', '-X/2'],\n",
    "    ['-Y/2'],\n",
    "    ['X/2'],\n",
    "    ['X/2', 'Y/2', 'X/2'],\n",
    "    ['-Y/2', 'X'],\n",
    "    ['X/2', 'Y'],\n",
    "    ['X/2', '-Y/2', 'X/2'],\n",
    "    ['Y/2'],\n",
    "    ['-X/2', 'Y'],\n",
    "    ['X/2', 'Y/2', '-X/2']\n",
    "]\n",
    "\n",
    "clifford_len = len(clifford_params)\n",
    "\n",
    "# parameters of basic single qubit pulses\n",
    "pulses_params = {\n",
    "    'I': {'amplitude':0.0, 'length': pi_length, 'phase': 0.0},\n",
    "    'X': {'amplitude':pi_amplitude, 'length': pi_length, 'phase': 0.0},\n",
    "    'Y': {'amplitude':pi_amplitude, 'length': pi_length, 'phase': 90.0},\n",
    "    'X/2': {'amplitude':pi2_amplitude, 'length': pi2_length, 'phase': 0.0},\n",
    "    'Y/2': {'amplitude':pi2_amplitude, 'length': pi2_length, 'phase': 90.0},\n",
    "    '-X/2': {'amplitude':pi2_amplitude, 'length': pi2_length, 'phase': 0.0-180.0},\n",
    "    '-Y/2': {'amplitude':pi2_amplitude, 'length': pi2_length, 'phase': 90.0-180.0},\n",
    "}\n",
    "\n",
    "# calculate complex waveforms for single qubit elementary pulses\n",
    "pulses_waves = {pulse_type: pulse_envelope(**pulse_param) for (pulse_type, pulse_param) in pulses_params.items()}\n",
    "# calculate complex waveforms for each of the Clifford gates\n",
    "clifford_waves = [np.concatenate([pulses_waves[i] for i in clifford_gate]) for clifford_gate in clifford_params]\n",
    "\n",
    "# divide real and complex part of waveforms into I and Q channel outputs\n",
    "clifford_waves_real = [(np.real(wave), np.imag(wave)) for wave in clifford_waves]\n",
    "\n",
    "#create zhinst-toolkit Waveforms \n",
    "wfm_clifford = zhinst.toolkit.Waveforms()\n",
    "for i,wfm in enumerate(clifford_waves):\n",
    "    wfm_clifford[i] = wfm"
   ]
  },
  {
   "cell_type": "markdown",
   "metadata": {
    "tags": []
   },
   "source": [
    "#### basic definitions to manipulate Clifford gates - needed for recovery gate calculation"
   ]
  },
  {
   "cell_type": "code",
   "execution_count": null,
   "metadata": {
    "tags": []
   },
   "outputs": [],
   "source": [
    "def pauli(ind = 'x'):\n",
    "    \"\"\"pauli matrices\n",
    "    \"\"\"\n",
    "    if ind =='x':\n",
    "        res = np.array([[0,1], [1,0]])\n",
    "    if ind =='y':\n",
    "        res = np.array([[0,-1j], [1j,0]])\n",
    "    if ind =='z':\n",
    "        res = np.array([[1,0], [0,-1]])\n",
    "        \n",
    "    return res\n",
    "\n",
    "def rot_matrix(angle=np.pi, axis='x'):\n",
    "    \"\"\"general definition of rotation unitary for a single qubit\n",
    "    \"\"\"\n",
    "    return expm(-1j * angle / 2 * pauli(axis))\n",
    "\n",
    "def mult_gates(gates, use_linalg=False, tol=20):\n",
    "    \"\"\"multiply a variable number of gates / matrices - recursive definition faster for simple 2x2 matrices\n",
    "    \"\"\"\n",
    "    if len(gates) > 1:\n",
    "        if use_linalg:\n",
    "            res = np.linalg.multi_dot(gates)\n",
    "        else:\n",
    "            res = np.matmul(gates[0], mult_gates(gates[1:], use_linalg=False, tol=tol))\n",
    "    elif len(gates) == 1:\n",
    "        res = gates[0]\n",
    "    \n",
    "    return res.round(tol)\n",
    "\n",
    "# generate matrix representation of all Clifford gates from elementary gates\n",
    "elem_gates = {'I': np.array([[1,0],[0,1]]),\n",
    "              'X': rot_matrix(np.pi, 'x'),\n",
    "              'Y': rot_matrix(np.pi, 'y'),\n",
    "              'X/2': rot_matrix(np.pi / 2, 'x'),\n",
    "              'Y/2': rot_matrix(np.pi / 2, 'y'),\n",
    "              '-X/2': rot_matrix(-np.pi / 2, 'x'),\n",
    "              '-Y/2': rot_matrix(-np.pi / 2, 'y')}\n",
    "\n",
    "clifford_matrices = [[elem_gates[gate] for gate in gates] for gates in clifford_params]\n",
    "clifford_gates = [mult_gates(matrices) for matrices in clifford_matrices]\n",
    "\n",
    "def glob_phase(phase, dim=2):\n",
    "    \"\"\"global phase operator for dimensionality dim\n",
    "    \"\"\"\n",
    "    return np.exp(1j * phase) * np.identity(dim)\n",
    "\n",
    "def match_up_to_phase(target, gates, dim=2, verbose=False):\n",
    "    \"\"\"finds the element of the list gates that best matches the target gate up to a global phase of integer multiples of pi\n",
    "    \"\"\"\n",
    "    # set of global phase operators for integer multiples of pi\n",
    "    glob_phases = [glob_phase(0, dim), glob_phase(np.pi, dim)]\n",
    "    # gates up to global phases\n",
    "    gates_2 = [[mult_gates([gate1, gate2]) for gate2 in glob_phases] for gate1 in gates]\n",
    "    # index of gate that is closest to target up to global phase (using frobenius norm)\n",
    "    match_index = np.argmin([np.amin([np.linalg.norm(target - gate) for gate in gates]) for gates in gates_2])\n",
    "    \n",
    "    return match_index"
   ]
  },
  {
   "cell_type": "markdown",
   "metadata": {
    "tags": []
   },
   "source": [
    "#### function to calculate the last gate in the sequence - recovery gate which leads back to initial state (up to global phase)"
   ]
  },
  {
   "cell_type": "code",
   "execution_count": null,
   "metadata": {},
   "outputs": [],
   "source": [
    "def calculate_inverse_clifford(clifford_list, gates=clifford_gates):\n",
    "    \"\"\"Calculates the final recovery clifford gate\n",
    "\n",
    "    Parameters:\n",
    "    clifford_list: list\n",
    "        a list containing the indices of the clifford sequence to be inverted\n",
    "    gate: list\n",
    "        a list containing the gates to compare the recovery gate to\n",
    "    \"\"\"\n",
    "    #return a dummy if only benchmarking of the system\n",
    "    if not real_rb:\n",
    "        return 0\n",
    "    \n",
    "    # matrix representation of Clifford sequence\n",
    "    seq_gate = mult_gates([gates[gate] for gate in clifford_list])\n",
    "    # recovery gate - inverse of full sequence\n",
    "    rec_gate = np.linalg.inv(seq_gate)\n",
    "    # index of recovery gate (up to global phase)\n",
    "    recovery = int(match_up_to_phase(rec_gate, clifford_gates))\n",
    "    \n",
    "    return recovery"
   ]
  },
  {
   "cell_type": "markdown",
   "metadata": {},
   "source": [
    "## Compiler Utilities\n",
    "A series of utility functions, to compile sequences and upload them.\n",
    "\n",
    "Not advised for operational use, only for benchmarking to clearly separate each step.\n",
    "\n",
    "Please use the functions provied by zhinst.toolkit in real life."
   ]
  },
  {
   "cell_type": "code",
   "execution_count": null,
   "metadata": {},
   "outputs": [],
   "source": [
    "def create_awg_mod(awg):\n",
    "    \"\"\"Create an AWG moduel\n",
    "    \n",
    "    Args:\n",
    "        awg (AWG): The AWG node of the instrument \n",
    "    \n",
    "    Returns:\n",
    "        AwgModule: the AWG module\n",
    "    \"\"\"\n",
    "    \n",
    "    awg_mod = awg._session.modules.create_awg_module()\n",
    "    raw_awg = awg_mod.raw_module\n",
    "    awg_mod.device(awg._serial)\n",
    "    awg_mod.index(awg._index)\n",
    "    awg_mod.compiler.upload(False)\n",
    "    raw_awg.execute()\n",
    "    return awg_mod\n",
    "\n",
    "\n",
    "def get_fn(awg_mod, fn_base=\"awg_default.elf\", absolute=True):\n",
    "    \"\"\"Get the ELF filename\n",
    "\n",
    "    Args:\n",
    "        awg_mod (AwgModule): The AWG Module\n",
    "        fn_base (str, optional): The 'base' filename\n",
    "        absolute (bool, optional): If True, return the full absolute path. Otherwise \n",
    "        only the reduce name to be passed to the AWG module. Defaults to True.\n",
    "\n",
    "    Returns:\n",
    "        str: the ELF filename\n",
    "    \"\"\"\n",
    "\n",
    "    if absolute:\n",
    "        base_dir = awg_mod.directory()\n",
    "        device = awg_mod.device().serial\n",
    "        index = awg_mod.index()\n",
    "        return os.path.normpath(\n",
    "            os.path.join(base_dir, \"awg/elf\", f\"{device:s}_{index:d}_{fn_base:s}\")\n",
    "        )\n",
    "    else:\n",
    "        return fn_base\n",
    "\n",
    "def compile_sequences(awg_mod, seqc, index=0):\n",
    "    \"\"\"Compile a sequence\n",
    "\n",
    "    Args:\n",
    "        awg_mod (AwgModule): The AWG Module needed for the compilation\n",
    "        seqc (str): The sequence\n",
    "        index (int, optional): The sequence number. It will be used for the filename\n",
    "    \"\"\"\n",
    "    \n",
    "    fn = get_fn(awg_mod, fn_base=f\"awg_{index:d}.elf\", absolute=False)\n",
    "    awg_mod.elf.file(fn)\n",
    "    awg_mod.compiler.sourcestring(seqc)\n",
    "    while True:\n",
    "        status = awg_mod.compiler.status()\n",
    "        if status == 0:\n",
    "            while awg_mod.compiler.sourcestring() != '':\n",
    "                time.sleep(0.001)\n",
    "            break\n",
    "        elif status == 1:\n",
    "            raise RuntimeError(\"Compilation Error: \" + awg_mod.compiler.statusstring())\n",
    "            break\n",
    "        elif status == 2:\n",
    "            raise RuntimeWarning(\"Compilation warning: \" + awg_mod.compiler.statusstring())\n",
    "            break\n",
    "\n",
    "        time.sleep(0.001)\n",
    "\n",
    "def upload_sequence(awg, awg_mod, index=0):\n",
    "    \"\"\"Upload a sequence to the device\n",
    "\n",
    "    Args:\n",
    "        awg_mod (AwgModule): The AWG Module used for the compilation\n",
    "        awg (AWG): The AWG node of the instrument \n",
    "\n",
    "        index (int, optional): The sequence number. It will be used for the filename\n",
    "    \"\"\"\n",
    "    fn = get_fn(awg_mod, fn_base=f\"awg_{index:d}.elf\", absolute=True)\n",
    "    with open(fn, \"rb\") as f:\n",
    "        data = np.frombuffer(f.read(), dtype=np.uint32)\n",
    "        awg.elf.data(data)\n"
   ]
  },
  {
   "cell_type": "markdown",
   "metadata": {
    "heading_collapsed": "true",
    "tags": []
   },
   "source": [
    "## Benchmark 1: Compare wavewform definition type\n",
    "Use a RB traditional method: define the whole sequence as a flat waveform, uploaded at each RB step.\n",
    "\n",
    "We compare CSV textual waveforms against directly injected waveforms defined in the sequence as placeholder."
   ]
  },
  {
   "cell_type": "markdown",
   "metadata": {
    "tags": []
   },
   "source": [
    "#### generate full two-channel waveform from Clifford definition - including digital modulation, if required"
   ]
  },
  {
   "cell_type": "code",
   "execution_count": null,
   "metadata": {},
   "outputs": [],
   "source": [
    "def generate_wave(clifford_sequence, freq=10e6, iq_modulation=True, pad_zero=None, sample_rate=2.4e9):\n",
    "    # wave_real - zero for Y-pulse, non-zero for X-pulse - negative amplitude flips by pi\n",
    "    wave_real = np.concatenate([clifford_waves_real[i][0] for i in clifford_sequence])\n",
    "    # wave_imag - zero for X-pulse, non-zero for Y-pulse - negative amplitude flips by pi\n",
    "    wave_imag = np.concatenate([clifford_waves_real[i][1] for i in clifford_sequence])\n",
    "    \n",
    "    if pad_zero is not None:\n",
    "        pad_len = pad_zero - wave_real.size\n",
    "        if pad_len > 0:\n",
    "            wave_real = np.pad(wave_real, (0, pad_len), 'constant', constant_values=0)\n",
    "            wave_imag = np.pad(wave_imag, (0, pad_len), 'constant', constant_values=0)\n",
    "    \n",
    "    wave_len = wave_real.size\n",
    "        \n",
    "    if iq_modulation:\n",
    "        wave_time = wave_len / sample_rate\n",
    "        wave_sin = np.sin(2 * np.pi * freq * np.linspace(0, wave_time, wave_len))\n",
    "        wave_cos = np.cos(2 * np.pi * freq * np.linspace(0, wave_time, wave_len))\n",
    "        # X-pulse: sin on I, cos on Q / Y-pulse: -cos on I, sin on Q\n",
    "        wave_I = wave_sin * wave_real + wave_cos * wave_imag\n",
    "        wave_Q = -wave_cos * wave_real + wave_sin * wave_imag\n",
    "    else:\n",
    "        wave_I = wave_real\n",
    "        wave_Q = wave_imag\n",
    "        \n",
    "    return [(wave_I, wave_Q)]    "
   ]
  },
  {
   "cell_type": "markdown",
   "metadata": {
    "tags": []
   },
   "source": [
    "#### define the seqC program as string, with length of waveform as parameter"
   ]
  },
  {
   "cell_type": "code",
   "execution_count": null,
   "metadata": {},
   "outputs": [],
   "source": [
    "# define the seqC program as string\n",
    "def rb_program_flat_wfm(wave_len, num_Averages, csv=False):\n",
    "    if csv:\n",
    "        wfm_decl = textwrap.dedent(f\"\"\"\\\n",
    "        //Waveform definition - two-channel waveform, from CSV\n",
    "        wave wI = \"wI\";\n",
    "        wave wQ = \"wQ\";\n",
    "        \"\"\")\n",
    "    else:\n",
    "        wfm_decl = textwrap.dedent(f\"\"\"\\\n",
    "        //Waveform definition - two-channel waveform, with placeholders\n",
    "        wave wI = placeholder({wave_len:d});\n",
    "        wave wQ = placeholder({wave_len:d});\n",
    "        assignWaveIndex(wI, wQ, 0);\n",
    "        \"\"\")\n",
    "        \n",
    "    res = wfm_decl + textwrap.dedent(f\"\"\"\\\n",
    "\n",
    "    // send a trigger at start of sequence\n",
    "    setTrigger(3);\n",
    "    wait(5);\n",
    "    setTrigger(0);\n",
    "    \n",
    "    repeat ({num_Averages}) {{\n",
    "        //execute random sequence from single waveform\n",
    "        playWave(1,2, wI, 1,2, wQ);\n",
    "    }}\n",
    "    \"\"\")\n",
    "\n",
    "    return res"
   ]
  },
  {
   "cell_type": "markdown",
   "metadata": {
    "tags": []
   },
   "source": [
    "#### pre-generate and upload full waveform including modulation - variable waveform length, requiring recompilation at every step"
   ]
  },
  {
   "cell_type": "code",
   "execution_count": null,
   "metadata": {
    "tags": [
     "outputPrepend"
    ]
   },
   "outputs": [],
   "source": [
    "def bench_flat_wfm(n,k,awg,csv):\n",
    "    \"\"\"Run a benchmark for the compiler and upload speed.\n",
    "    Uses a RB sequence expressed as flat waveform\n",
    "\n",
    "    Args:\n",
    "        n (int): number of different sequence RB lengths (exponential)\n",
    "        k (int): number of different random sequences per length\n",
    "        awg (AWG): The AWG node\n",
    "        csv (bool): If the waveform is saved as CSV (True) or as directly injectd into a placeholder (False)\n",
    "        \n",
    "    Returns:\n",
    "        np.array: Compile time, per iterations\n",
    "        np.array: Upload time, per iterations\n",
    "    \"\"\"\n",
    "    \n",
    "    # include IQ_modulation?\n",
    "    iq_modulation = True\n",
    "    freq = 10e6\n",
    "\n",
    "    # number of averages / repetitions\n",
    "    num_Averages = 2**0\n",
    "    \n",
    "    #Create an AWG module and use a temporary directory\n",
    "    with tempfile.TemporaryDirectory() as filedir:\n",
    "        awg_mod = create_awg_mod(awg)\n",
    "        awg_mod.directory(filedir)\n",
    "        \n",
    "        #Create sub-directories for waves\n",
    "        os.mkdir(os.path.join(filedir, \"awg/\"))\n",
    "        os.mkdir(os.path.join(filedir, \"awg/waves/\"))\n",
    "\n",
    "        start = time.perf_counter_ns()\n",
    "        compile_time = []\n",
    "        upload_time = []\n",
    "\n",
    "        i = 0\n",
    "        # iterate over sequence lengths\n",
    "        for len_exp in range(1,n+1):\n",
    "            # define sequence length = 2^n\n",
    "            M = 2**len_exp\n",
    "\n",
    "            # iterate over different random sequences\n",
    "            for rand_i in range(k):\n",
    "                # Generate a RB sequence as a sequence of random Clifford indices\n",
    "                gates_M1 = [random.randrange(0,24) for i in range(M)]\n",
    "                # find recovery gate\n",
    "                gate_M = calculate_inverse_clifford(gates_M1)\n",
    "                # full sequence\n",
    "                gates_M = gates_M1 + [gate_M]\n",
    "\n",
    "                #Generate the waveforms\n",
    "                wave_all = generate_wave(gates_M, freq=freq, iq_modulation=iq_modulation)\n",
    "                wave_len = wave_all[0][0].size\n",
    "\n",
    "                #Generate the sequence\n",
    "                seqc = rb_program_flat_wfm(wave_len, num_Averages, csv=csv)\n",
    "\n",
    "                compile_start = time.perf_counter_ns()\n",
    "\n",
    "                # if csv wfm are used, save them on disk\n",
    "                # otherwise calculate the raw vector\n",
    "                if csv:\n",
    "                    np.savetxt(os.path.join(filedir, \"awg/waves/wI.csv\"), wave_all[0][0])\n",
    "                    np.savetxt(os.path.join(filedir, \"awg/waves/wQ.csv\"), wave_all[0][1])\n",
    "                else:\n",
    "                    wfm = zhinst.toolkit.Waveforms()\n",
    "                    wfm[0] = wave_all[0]\n",
    "                    wfm_raw = wfm.get_raw_vector(0)\n",
    "                \n",
    "\n",
    "                #compile the sequence\n",
    "                i += 1\n",
    "                compile_sequences(awg_mod, seqc, i)\n",
    "                compile_stop = time.perf_counter_ns()\n",
    "\n",
    "                #Upload the compiled sequence and associated waveforms\n",
    "                with awg.root.set_transaction():\n",
    "                    upload_sequence(awg, awg_mod,i)\n",
    "\n",
    "                    #upload separatly the waveform, if not csv\n",
    "                    if not csv:\n",
    "                        awg.waveform.waves[0](wfm_raw)\n",
    "\n",
    "                upload_stop = time.perf_counter_ns()\n",
    "\n",
    "                upload_time.append(upload_stop - compile_stop)\n",
    "                compile_time.append(compile_stop - compile_start)\n",
    "\n",
    "    tot_time = time.perf_counter_ns() - start\n",
    "\n",
    "    upload_time = np.array(upload_time) * 1e-9\n",
    "    compile_time = np.array(compile_time) * 1e-9\n",
    "\n",
    "    print(f'Total time: {tot_time*1e-9:.3f}s')\n",
    "    print(f'Per iteration time (average): {tot_time/(k*n)*1e-9:.3f}s')\n",
    "    \n",
    "    return compile_time, upload_time"
   ]
  },
  {
   "cell_type": "code",
   "execution_count": null,
   "metadata": {},
   "outputs": [],
   "source": [
    "#benchmark parameters\n",
    "n = 14\n",
    "k = 10"
   ]
  },
  {
   "cell_type": "code",
   "execution_count": null,
   "metadata": {},
   "outputs": [
    {
     "name": "stdout",
     "output_type": "stream",
     "text": [
      "Total time: 74.152s\n",
      "Per iteration time (average): 0.530s\n"
     ]
    }
   ],
   "source": [
    "#Placeholders\n",
    "compile_time_placeholder, upload_time_placeholder = bench_flat_wfm(n=n,k=k,awg=devicehd.awgs[0], csv=False)"
   ]
  },
  {
   "cell_type": "code",
   "execution_count": null,
   "metadata": {},
   "outputs": [
    {
     "name": "stdout",
     "output_type": "stream",
     "text": [
      "Total time: 1926.003s\n",
      "Per iteration time (average): 13.757s\n"
     ]
    }
   ],
   "source": [
    "#CSV\n",
    "compile_time_csv, upload_time_csv = bench_flat_wfm(n=n,k=k,awg=devicehd.awgs[0], csv=True)"
   ]
  },
  {
   "cell_type": "code",
   "execution_count": null,
   "metadata": {},
   "outputs": [],
   "source": [
    "#save results for plot\n",
    "np.savetxt('params.txt', [n,k], fmt = '%d')\n",
    "np.savetxt('compile_time_csv.txt', compile_time_csv)\n",
    "np.savetxt('compile_time_placeholder.txt', compile_time_placeholder)\n",
    "np.savetxt('upload_time_csv.txt', upload_time_csv)\n",
    "np.savetxt('upload_time_placeholder.txt', upload_time_placeholder)"
   ]
  },
  {
   "cell_type": "markdown",
   "metadata": {},
   "source": [
    "## Benchmark 2: Compare compiler versions\n",
    "Benchmark to compare different compiler versions. We define a RB sequence where each Clifford gate is defined as a command table entry, and the sequence is defined as list of calls to executeTableEntry.\n",
    "\n",
    "We compare the AWG compiler version 22.02 patch-0 (22.2.26577) and patch-1 (22.2.29711).\n",
    "\n",
    "Please note that the notebook should be restarted to load a new library version."
   ]
  },
  {
   "cell_type": "code",
   "execution_count": null,
   "metadata": {},
   "outputs": [],
   "source": [
    "# define the seqC program as string\n",
    "def rb_program_ct_list(gates, num_Averages):\n",
    "    # Waveform definition - allocating the waveforms for each clifford\n",
    "    waveforms_def = str()\n",
    "    for i,wave in enumerate(clifford_waves):\n",
    "        wave_len = len(wave)\n",
    "        waveforms_def += f\"assignWaveIndex(placeholder({wave_len:d}), placeholder({wave_len:d}), {i:d});\\n\"\n",
    "\n",
    "    # define the seqC program as string\n",
    "    hd_rb_program = textwrap.dedent(f\"\"\"\\\n",
    "    //Waveforms definition\n",
    "    \"\"\")\n",
    "    \n",
    "    hd_rb_program += waveforms_def\n",
    "    \n",
    "    hd_rb_program += textwrap.dedent(f\"\"\"\n",
    "    //Loop\n",
    "    repeat ({num_Averages:d}) {{\n",
    "    \"\"\")\n",
    "    \n",
    "    for gate in gates:\n",
    "        hd_rb_program += f\"\\texecuteTableEntry({gate:d});\\n\"\n",
    "\n",
    "    hd_rb_program += \"}\"\n",
    "    \n",
    "    return hd_rb_program\n",
    "\n",
    "\n",
    "#Simple command table with all the cliffords\n",
    "def get_ct_cliff(awg):\n",
    "    ct_schema = awg.commandtable.load_validation_schema()\n",
    "    ct = zhinst.toolkit.CommandTable(ct_schema)\n",
    "    for i in range(24):\n",
    "        ct.table[i].waveform.index = i\n",
    "    return ct"
   ]
  },
  {
   "cell_type": "code",
   "execution_count": null,
   "metadata": {},
   "outputs": [],
   "source": [
    "def bench_elements(n,k,awg):\n",
    "    \"\"\"Run a benchmark for the compiler and upload speed.\n",
    "    Uses a RB sequence expressed as serie of command table executions\n",
    "\n",
    "    Args:\n",
    "        n (int): number of different sequence RB lengths (exponential)\n",
    "        k (int): number of different random sequences per length\n",
    "        awg (AWG): The AWG node\n",
    "        \n",
    "    Returns:\n",
    "        np.array: Compile time, per iterations\n",
    "        np.array: Upload time, per iterations\n",
    "    \"\"\"\n",
    "    \n",
    "    # number of averages / repetitions\n",
    "    num_Averages = 2**0    \n",
    "    \n",
    "    #get the command table\n",
    "    ct = get_ct_cliff(awg)\n",
    "    cts = np.frombuffer(json.dumps(ct.as_dict()).encode('utf-8'), dtype=np.uint32)\n",
    "    \n",
    "    #Create an AWG module and use a temporary directory\n",
    "    with tempfile.TemporaryDirectory() as filedir:\n",
    "        awg_mod = create_awg_mod(awg)\n",
    "        awg_mod.directory(filedir)\n",
    "\n",
    "        start = time.perf_counter_ns()\n",
    "        compile_time = []\n",
    "        upload_time = []\n",
    "\n",
    "        i = 0\n",
    "        # iterate over sequence lengths\n",
    "        for len_exp in range(1,n+1):\n",
    "            # define sequence length = 2^n\n",
    "            M = 2**len_exp\n",
    "\n",
    "            # iterate over different random sequences\n",
    "            for rand_i in range(k):\n",
    "                # Generate a RB sequence as a sequence of random Clifford indices\n",
    "                gates_M1 = [random.randrange(0,24) for i in range(M)]\n",
    "                # find recovery gate\n",
    "                gate_M = calculate_inverse_clifford(gates_M1)\n",
    "                # full sequence\n",
    "                gates_M = gates_M1 + [gate_M]\n",
    "\n",
    "                #Generate the sequence\n",
    "                seqc = rb_program_ct_list(gates_M, num_Averages)\n",
    "\n",
    "                compile_start = time.perf_counter_ns()\n",
    "\n",
    "                #compile the sequence\n",
    "                i += 1\n",
    "                compile_sequences(awg_mod, seqc, i)\n",
    "                compile_stop = time.perf_counter_ns()\n",
    "\n",
    "                #Upload the compiled sequence, associated waveforms and the command tale\n",
    "                with awg.root.set_transaction():\n",
    "                    upload_sequence(awg, awg_mod, i)\n",
    "\n",
    "                    #upload the waveforms\n",
    "                    for i in wfm_clifford:\n",
    "                        awg.waveform.waves[i](wfm_clifford.get_raw_vector(i))\n",
    "                        \n",
    "                    #Upload the CT\n",
    "                    awg.commandtable.data(cts)\n",
    "\n",
    "                upload_stop = time.perf_counter_ns()\n",
    "\n",
    "                upload_time.append(upload_stop - compile_stop)\n",
    "                compile_time.append(compile_stop - compile_start)\n",
    "\n",
    "    tot_time = time.perf_counter_ns() - start\n",
    "\n",
    "    upload_time = np.array(upload_time) * 1e-9\n",
    "    compile_time = np.array(compile_time) * 1e-9\n",
    "\n",
    "\n",
    "    print(f'Total time: {tot_time*1e-9:.3f}s')\n",
    "    print(f'Per iteration time: {tot_time/(k*n)*1e-9:.3f}s')\n",
    "    \n",
    "    return compile_time, upload_time"
   ]
  },
  {
   "cell_type": "code",
   "execution_count": null,
   "metadata": {},
   "outputs": [
    {
     "name": "stdout",
     "output_type": "stream",
     "text": [
      "Total time: 9.998s\n",
      "Per iteration time: 0.071s\n"
     ]
    }
   ],
   "source": [
    "compile_time_el, upload_time_el = bench_elements(n,k,devicesg.sgchannels[0].awg)"
   ]
  },
  {
   "cell_type": "code",
   "execution_count": null,
   "metadata": {},
   "outputs": [],
   "source": [
    "ziPython_ver = zhinst.ziPython.__version__.replace('.','_')\n",
    "np.savetxt(f'compile_time_el_{ziPython_ver:s}.txt', compile_time_el)\n",
    "np.savetxt(f'upload_time_el_{ziPython_ver:s}.txt', upload_time_el)"
   ]
  },
  {
   "cell_type": "code",
   "execution_count": null,
   "metadata": {},
   "outputs": [],
   "source": []
  }
 ],
 "metadata": {
  "kernelspec": {
   "display_name": "Python 3 (ipykernel)",
   "language": "python",
   "name": "python3"
  },
  "language_info": {
   "codemirror_mode": {
    "name": "ipython",
    "version": 3
   },
   "file_extension": ".py",
   "mimetype": "text/x-python",
   "name": "python",
   "nbconvert_exporter": "python",
   "pygments_lexer": "ipython3",
   "version": "3.9.5"
  }
 },
 "nbformat": 4,
 "nbformat_minor": 4
}
