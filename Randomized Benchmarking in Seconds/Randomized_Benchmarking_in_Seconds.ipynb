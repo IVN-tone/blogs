{
 "cells": [
  {
   "cell_type": "markdown",
   "metadata": {},
   "source": [
    "## Import and dataserver setup"
   ]
  },
  {
   "cell_type": "code",
   "execution_count": null,
   "metadata": {
    "tags": []
   },
   "outputs": [],
   "source": [
    "## Import of required modules\n",
    "\n",
    "import time\n",
    "import zhinst.ziPython as zi\n",
    "import zhinst.utils\n",
    "import numpy as np\n",
    "from scipy.linalg import expm\n",
    "import json\n",
    "import random\n",
    "import matplotlib.pyplot as plt"
   ]
  },
  {
   "cell_type": "code",
   "execution_count": null,
   "metadata": {},
   "outputs": [],
   "source": [
    "## Define the parameters of your instrument and dataserver\n",
    "\n",
    "# dataserver IP address - may be localhost or any IP running the LabOne dataserver\n",
    "# dataserver_host = 'localhost'\n",
    "dataserver_host = 'your_dataserver_IP_here'\n",
    "\n",
    "# HDAWG device name\n",
    "# dev_hd = 'devYYYY'\n",
    "dev_hd = 'your_device_ID_here'"
   ]
  },
  {
   "cell_type": "code",
   "execution_count": null,
   "metadata": {},
   "outputs": [],
   "source": [
    "# connect to ZI dataserver \n",
    "daq = zi.ziDAQServer(dataserver_host, 8004, 6)\n",
    "\n",
    "# check for required LabOne version\n",
    "version = daq.getInt(f'/zi/about/revision')\n",
    "if version < 200702701:\n",
    "    raise Exception(f\"This script requires LabOne version 20.07.2701 or higher.\")"
   ]
  },
  {
   "cell_type": "markdown",
   "metadata": {
    "heading_collapsed": "true",
    "tags": []
   },
   "source": [
    "## Helper class for controlling the HDAWG"
   ]
  },
  {
   "cell_type": "code",
   "execution_count": null,
   "metadata": {},
   "outputs": [],
   "source": [
    "class HDAWG_Core():\n",
    "    \n",
    "    def __init__(self, daq, device, awg_index=0, connect_type = '1gbe', iq_modulation=True, osc_control=1, wait=0.005):\n",
    "        \"\"\"Configure the device. Select mode of 2 channels in each group\n",
    "        \n",
    "        Parameters\n",
    "        ----------\n",
    "        daq : ziDAQServer \n",
    "            The DAQ connection\n",
    "        device : str\n",
    "            The serial of the HDAWG\n",
    "        awg_index: int\n",
    "            The index of the AWG core\n",
    "        \"\"\"\n",
    "        self.daq = daq\n",
    "        self.device = device\n",
    "        self.awg_index = awg_index\n",
    "        \n",
    "        # waiting interval for polling of internal states\n",
    "        self.wait = wait\n",
    "\n",
    "        self.daq.connectDevice(device, connect_type)\n",
    "\n",
    "        # Configure 4x2 mode\n",
    "        self.daq.setString(f'/{self.device}/system/awg/channelgrouping', 'groups_of_2')\n",
    "    \n",
    "        #IQ modulation\n",
    "        self.iq_modulation = iq_modulation\n",
    "        \n",
    "        # set oscillator control setting\n",
    "        self.setOscControl(osc_control)\n",
    "        \n",
    "        # Setup AWG module\n",
    "        self.awg_module = daq.awgModule()\n",
    "        self.awg_module.set('device', device)\n",
    "        self.awg_module.set('index', awg_index)\n",
    "        \n",
    "        # Execute commands\n",
    "        self.awg_module.execute()\n",
    "        \n",
    "\n",
    "    def config(self, program, ct=None, waves=None):\n",
    "        \"\"\"Configure the HDAWG with a seqC program and optional a command table and waveform table\n",
    "        \n",
    "        Parameters\n",
    "        ----------\n",
    "        program: str\n",
    "            The seqc program\n",
    "        ct: dict\n",
    "            The Command Table, as list\n",
    "        waves: list\n",
    "            List of the waveforms\n",
    "        \"\"\"\n",
    "        ## Configure AWG\n",
    "        # Stop AWG\n",
    "        self.daq.setInt(f'/{self.device}/awgs/{self.awg_index}/enable', 0)\n",
    "        # Send sequence\n",
    "        self.compile_seqc(program)\n",
    "\n",
    "        # Run AWG program only once\n",
    "        self.daq.setInt(f'/{self.device}/awgs/{self.awg_index}/single', 1)\n",
    "\n",
    "        # Enable channel outputs\n",
    "        self.daq.setInt(f'/{self.device}/sigouts/{self.awg_index*2}/on', 1)\n",
    "        self.daq.setInt(f'/{self.device}/sigouts/{self.awg_index*2+1}/on', 1)\n",
    "\n",
    "        # upload AWG waveform data\n",
    "        if waves is not None:\n",
    "            for i, wave in enumerate(waves):\n",
    "                wave_raw = zhinst.utils.convert_awg_waveform(wave[0],wave[1])\n",
    "                self.daq.setVector(f'/{self.device}/awgs/{self.awg_index}/waveform/waves/{i}', wave_raw)\n",
    "\n",
    "        # upload the command table\n",
    "        if ct is not None:\n",
    "            self.load_ct(ct)\n",
    "            \n",
    "        \n",
    "    def setUserReg(self, register, value):\n",
    "        \"\"\"Set the value of a single UserRegister\n",
    "        \n",
    "        Parameters\n",
    "        ----------\n",
    "        register: int\n",
    "            index of the user register to be set\n",
    "        value: int\n",
    "            value of the user register to be set\n",
    "        \"\"\"\n",
    "        self.daq.setInt(f'/{self.device:s}/awgs/{self.awg_index}/userregs/{register:d}', value)\n",
    "        \n",
    "\n",
    "    def setUserRegisters(self, registers):\n",
    "        \"\"\"Set the value of multiple UserRegister\n",
    "        \n",
    "        Parameters\n",
    "        ----------\n",
    "        registers: list\n",
    "            list of indices and values for the user registers to be read back\n",
    "        \"\"\"\n",
    "        sets = [(f'/{self.device:s}/awgs/{self.awg_index}/userregs/{reg[0]:d}', reg[1]) for reg in registers]\n",
    "        self.daq.set(sets)\n",
    "        \n",
    "\n",
    "    def getUserReg(self, register):\n",
    "        \"\"\"Read back the value of a UserRegister\n",
    "        \n",
    "        Parameters\n",
    "        ----------\n",
    "        register: int\n",
    "            the index of the user register to be read back\n",
    "        \"\"\"\n",
    "        self.daq.getInt(f'/{self.device:s}/awgs/{self.awg_index}/userregs/{register:d}')\n",
    "        \n",
    "\n",
    "    def setHold(self, hold=1):\n",
    "        \"\"\"enable / disable last sample hold\n",
    "        \n",
    "        Parameters\n",
    "        ----------\n",
    "        hold: int\n",
    "            enable or disable last sample hold\n",
    "        \"\"\"\n",
    "        self.daq.setInt(f'/{self.device:s}/awgs/{self.awg_index}/outputs/0/hold', hold)\n",
    "        self.daq.setInt(f'/{self.device:s}/awgs/{self.awg_index}/outputs/1/hold', hold)\n",
    "        \n",
    "\n",
    "    def setOscControl(self, enable):\n",
    "        \"\"\"enable / disable control of digital oscillator frequencies in sequencer program\n",
    "        \n",
    "        Parameters\n",
    "        ----------\n",
    "        enable: int\n",
    "            enable or disable software control\n",
    "        \"\"\"\n",
    "        self.daq.setInt(f'/{self.device:s}/system/awg/oscillatorcontrol', enable)\n",
    "        \n",
    "    \n",
    "    def run(self, wait=False):\n",
    "        \"\"\"run the loaded seqC program\n",
    "        \n",
    "        Parameters\n",
    "        ----------\n",
    "        wait: bool\n",
    "            wait for AWG to return ready state\n",
    "        \"\"\"\n",
    "        enable = f'/{self.device:s}/awgs/{self.awg_index}/enable'\n",
    "        self.daq.syncSetInt(enable, 1)\n",
    "        if wait:\n",
    "            while(self.daq.getInt(enable) == 1):\n",
    "                time.sleep(self.wait)\n",
    "                \n",
    "                \n",
    "    def stop(self):\n",
    "        \"\"\"stop the AWG core\n",
    "        \"\"\"\n",
    "        enable = f'/{self.device:s}/awgs/{self.awg_index}/enable'\n",
    "        self.daq.setInt(enable, 0)\n",
    "        \n",
    "\n",
    "    def compile_seqc(self, program):\n",
    "        \"\"\"Compile and send a sequencer program to the device\n",
    "        \n",
    "        Parameters\n",
    "        ----------\n",
    "        program: str\n",
    "            The seqc program\n",
    "        \"\"\"\n",
    "        # Compile program\n",
    "        self.awg_module.set('compiler/sourcestring', program)\n",
    "        while self.awg_module.getInt('compiler/status') == -1:\n",
    "            time.sleep(self.wait)\n",
    "        if self.awg_module.getInt('compiler/status') != 0:\n",
    "            raise Exception(\"Failed to compile program.\")\n",
    "        \n",
    "        # Upload program\n",
    "        while (self.awg_module.getDouble('progress') < 1.0) and (self.awg_module.getInt('elf/status') != 1):\n",
    "            time.sleep(self.wait)\n",
    "        if self.awg_module.getInt('elf/status') == 1:\n",
    "            raise Exception(\"Failed to upload program.\")\n",
    "            \n",
    "            \n",
    "    def load_waves(self, waves):\n",
    "        \"\"\"uploads a set of waveforms to the waveform memory\n",
    "        \n",
    "        Parameters\n",
    "        ----------\n",
    "        waves: list\n",
    "            list of two-channel waveforms, given as [[I], [Q]]\n",
    "        \"\"\"\n",
    "        #load AWG waveforms\n",
    "        for i, wave in enumerate(waves):\n",
    "            wave_raw = zhinst.utils.convert_awg_waveform(wave[0],wave[1])\n",
    "            self.daq.setVector(f'/{self.device}/awgs/{self.awg_index}/waveform/waves/{i}', wave_raw)\n",
    "            \n",
    "    \n",
    "    def _configure_ct_output(self, ct):\n",
    "        \"\"\"configure the entries written to the command table to be valid for the two cases \n",
    "            with and without IQ modulation\n",
    "        \n",
    "        Parameters\n",
    "        ----------\n",
    "        ct: dict\n",
    "            command table as dictionary\n",
    "        \"\"\"\n",
    "        for entry in ct:\n",
    "            if 'waveform' in entry.keys():\n",
    "                if self.iq_modulation:\n",
    "                    entry['waveform']['awgChannel0'] = ['sigout0','sigout1']\n",
    "                    entry['waveform']['awgChannel1'] = ['sigout0','sigout1']\n",
    "                else:\n",
    "                    entry['waveform']['awgChannel0'] = ['sigout0']\n",
    "                    entry['waveform']['awgChannel1'] = ['sigout1']\n",
    "    \n",
    "    \n",
    "    def load_ct(self, ct, debug = False):\n",
    "        \"\"\"Upload a command table to the AWG\n",
    "        \n",
    "        Parameters\n",
    "        ----------\n",
    "        ct: dict\n",
    "            The Command Table, as dictonary\n",
    "        \"\"\"\n",
    "        # put into proper format for IQ output\n",
    "        self._configure_ct_output(ct)\n",
    "\n",
    "        # Create Command Table \n",
    "        ct_all = {'header': {'version':'0.2'}, \n",
    "                  'table': ct}\n",
    "        node = f\"/{self.device:s}/awgs/{self.awg_index}/commandtable/data\"\n",
    "        self.daq.setVector(node, json.dumps(ct_all))\n",
    "        \n",
    "        # debug print of ct as written to device\n",
    "        if debug:\n",
    "            print(self.awg_index, self.daq.get(node,flat=True)[node][0]['vector'])\n",
    "\n",
    "        \n",
    "    def get_ct(self):\n",
    "        \"\"\"return the command table which is loaded on the AWG\n",
    "        \n",
    "        Returns\n",
    "        ----------\n",
    "        ct: dict\n",
    "            The Command Table, as dictonary\n",
    "        \"\"\"\n",
    "        ct_loaded = self.daq.getInt(f\"/{self.device:s}/awgs/{self.awg_index}/commandtable/status\")\n",
    "        if ct_loaded:\n",
    "            node = f\"/{self.device:s}/awgs/{self.awg_index}/commandtable/data\"\n",
    "            ct_raw = self.daq.get(node, flat=True)[node][0]['vector']\n",
    "\n",
    "            #HACK: wrong format in CT reply from the HDAWG\n",
    "            ct_raw = ct_raw.replace('\"awgChannel0:','\"awgChannel0\":')\n",
    "            ct_raw = ct_raw.replace('\"awgChannel1:','\"awgChannel1\":')\n",
    "\n",
    "            ct = json.loads(ct_raw)\n",
    "            return ct['table']\n",
    "        else:\n",
    "            return None\n",
    "        \n",
    "    \n",
    "    @property\n",
    "    def iq_modulation(self):\n",
    "        return self._iq_modulation_enabled\n",
    "\n",
    "    @iq_modulation.setter \n",
    "    def iq_modulation(self, enable):\n",
    "        \"\"\"\n",
    "        enable IQ modulation - proper phase relationship for IQ upconversion\n",
    "        \n",
    "        Parameters\n",
    "        ----------\n",
    "        enable: int\n",
    "            enable or disable IQ modulation\n",
    "        \"\"\"\n",
    "        self._iq_modulation_enabled = enable\n",
    "\n",
    "        # Use the same oscillator for I and Q\n",
    "        self.daq.setInt(f'/{self.device}/sines/{self.awg_index}/oscselect', self.awg_index)\n",
    "        self.daq.setInt(f'/{self.device}/sines/{self.awg_index+1}/oscselect', self.awg_index)\n",
    "\n",
    "        # set correct phase relationship\n",
    "        self.daq.setDouble(f'/{self.device}/sines/{self.awg_index}/phaseshift', 0.0)\n",
    "        self.daq.setDouble(f'/{self.device}/sines/{self.awg_index+1}/phaseshift', 90.0)\n",
    "\n",
    "        # Work with first harmonic\n",
    "        self.daq.setInt(f'/{self.device}/sines/{self.awg_index}/harmonic', 1)\n",
    "        self.daq.setInt(f'/{self.device}/sines/{self.awg_index+1}/harmonic', 1)\n",
    "        \n",
    "        # set gains\n",
    "        self.daq.setDouble(f'/{self.device}/awgs/{self.awg_index}/outputs/0/gains/0', 1.0)\n",
    "        self.daq.setDouble(f'/{self.device}/awgs/{self.awg_index}/outputs/1/gains/1', 1.0)\n",
    "\n",
    "        if enable:\n",
    "            # create the correct IQ setting to use with an ideal IQ mixer for SSB modulation\n",
    "            # the output with these setting will be\n",
    "            # Out1 = AWG1 * cos(ωt) + AWG2 * sin(ωt)\n",
    "            # Out2 = -AWG1 * sin(ωt) + AWG2 * cos(ωt)\n",
    "            self.daq.setInt(f'/{self.device}/awgs/{self.awg_index}/outputs/0/modulation/mode', 3)\n",
    "            self.daq.setInt(f'/{self.device}/awgs/{self.awg_index}/outputs/1/modulation/mode', 4)\n",
    "\n",
    "            self.daq.setDouble(f'/{self.device}/awgs/{self.awg_index}/outputs/0/gains/1', -1.0)\n",
    "            self.daq.setDouble(f'/{self.device}/awgs/{self.awg_index}/outputs/1/gains/0', 1.0)\n",
    "        else:\n",
    "            self.daq.setInt(f'/{self.device}/awgs/{self.awg_index}/outputs/0/modulation/mode', 0)\n",
    "            self.daq.setInt(f'/{self.device}/awgs/{self.awg_index}/outputs/1/modulation/mode', 0)\n",
    "            \n",
    "            self.daq.setDouble(f'/{self.device}/awgs/{self.awg_index}/outputs/0/gains/1', 1.0)\n",
    "            self.daq.setDouble(f'/{self.device}/awgs/{self.awg_index}/outputs/1/gains/0', 1.0)\n",
    "\n",
    "        # reload the CT if needed - IQ modulated pulses need two entries\n",
    "        ct = self.get_ct()\n",
    "        if ct:\n",
    "            self.load_ct(ct)\n",
    "            \n",
    "        \n",
    "    def set_frequency(self, freq=10000000, osc=0):\n",
    "        \"\"\"\n",
    "        set frequency of internal oscillator\n",
    "        \n",
    "        Parameters\n",
    "        ----------\n",
    "        freq: double\n",
    "            Frequency to be set\n",
    "        osc: int\n",
    "            Index of oscillator to be changed\n",
    "        \"\"\"  \n",
    "        oscControl = self.daq.getInt(f'/{self.device:s}/system/awg/oscillatorcontrol')\n",
    "        if oscControl != 1:\n",
    "            self.oscControl(1)\n",
    "        \n",
    "        daq.setDouble(f'/{self.device:s}/oscs/{osc}/freq', freq)\n",
    "        "
   ]
  },
  {
   "cell_type": "markdown",
   "metadata": {
    "tags": []
   },
   "source": [
    "# Randomized Benchmarking with HDAWG"
   ]
  },
  {
   "cell_type": "markdown",
   "metadata": {
    "heading_collapsed": "true",
    "tags": []
   },
   "source": [
    "## Clifford gates"
   ]
  },
  {
   "cell_type": "markdown",
   "metadata": {
    "tags": []
   },
   "source": [
    "#### amplitudes (in units of max amplitude) and length (in s) for basic gates "
   ]
  },
  {
   "cell_type": "code",
   "execution_count": null,
   "metadata": {},
   "outputs": [],
   "source": [
    "pi_amplitude = 1.0\n",
    "pi_length = 240e-9\n",
    "pi2_amplitude = 0.5\n",
    "pi2_length = 240e-9"
   ]
  },
  {
   "cell_type": "markdown",
   "metadata": {
    "tags": []
   },
   "source": [
    "#### define an envelope function for single qubit gates - here: Gaussian with width = length / 3"
   ]
  },
  {
   "cell_type": "code",
   "execution_count": null,
   "metadata": {},
   "outputs": [],
   "source": [
    "def pulse_envelope(amplitude, length, phase, sigma=1/3, sample_rate=2.4e9, tol=15):\n",
    "    #sigma = 1/3\n",
    "    # ensure waveform length is integer multiple of 16\n",
    "    samples = round(sample_rate * length / 16) * 16\n",
    "    x = np.linspace(-1, 1, samples)\n",
    "    # output is complex, where phase later determines the gate rotation axis\n",
    "    y = amplitude * np.exp(-x**2 / sigma**2 + 1j * np.deg2rad(phase))\n",
    "    \n",
    "    return y.round(tol)"
   ]
  },
  {
   "cell_type": "markdown",
   "metadata": {
    "tags": []
   },
   "source": [
    "#### build the clifford gates out of the elementary single qubit gates"
   ]
  },
  {
   "cell_type": "code",
   "execution_count": null,
   "metadata": {},
   "outputs": [],
   "source": [
    "# all elements of the Clifford group, according to defintion in arXiv:1410.2338\n",
    "clifford_params = [\n",
    "    ['I'],\n",
    "    ['Y/2', 'X/2'],\n",
    "    ['-X/2', '-Y/2'],\n",
    "    ['X'],\n",
    "    ['-Y/2', '-X/2'],\n",
    "    ['X/2', '-Y/2'],\n",
    "    ['Y'],\n",
    "    ['-Y/2', 'X/2'],\n",
    "    ['X/2', 'Y/2'],\n",
    "    ['X', 'Y'],\n",
    "    ['Y/2', '-X/2'],\n",
    "    ['-X/2', 'Y/2'],\n",
    "    ['Y/2', 'X'],\n",
    "    ['-X/2'],\n",
    "    ['X/2', '-Y/2', '-X/2'],\n",
    "    ['-Y/2'],\n",
    "    ['X/2'],\n",
    "    ['X/2', 'Y/2', 'X/2'],\n",
    "    ['-Y/2', 'X'],\n",
    "    ['X/2', 'Y'],\n",
    "    ['X/2', '-Y/2', 'X/2'],\n",
    "    ['Y/2'],\n",
    "    ['-X/2', 'Y'],\n",
    "    ['X/2', 'Y/2', '-X/2']\n",
    "]\n",
    "\n",
    "clifford_len = len(clifford_params)\n",
    "\n",
    "# parameters of basic single qubit pulses\n",
    "pulses_params = {\n",
    "    'I': {'amplitude':0.0, 'length': pi_length, 'phase': 0.0},\n",
    "    'X': {'amplitude':pi_amplitude, 'length': pi_length, 'phase': 0.0},\n",
    "    'Y': {'amplitude':pi_amplitude, 'length': pi_length, 'phase': 90.0},\n",
    "    'X/2': {'amplitude':pi2_amplitude, 'length': pi2_length, 'phase': 0.0},\n",
    "    'Y/2': {'amplitude':pi2_amplitude, 'length': pi2_length, 'phase': 90.0},\n",
    "    '-X/2': {'amplitude':pi2_amplitude, 'length': pi2_length, 'phase': 0.0-180.0},\n",
    "    '-Y/2': {'amplitude':pi2_amplitude, 'length': pi2_length, 'phase': 90.0-180.0},\n",
    "}\n",
    "\n",
    "# calculate complex waveforms for single qubit elementary pulses\n",
    "pulses_waves = {pulse_type: pulse_envelope(**pulse_param) for (pulse_type, pulse_param) in pulses_params.items()}\n",
    "# calculate complex waveforms for each of the Clifford gates\n",
    "clifford_waves = [np.concatenate([pulses_waves[i] for i in clifford_gate]) for clifford_gate in clifford_params]\n",
    "\n",
    "# divide real and complex part of waveforms into I and Q channel outputs\n",
    "clifford_waves_real = [(np.real(wave), np.imag(wave)) for wave in clifford_waves]"
   ]
  },
  {
   "cell_type": "markdown",
   "metadata": {
    "tags": []
   },
   "source": [
    "#### basic definitions to manipulate Clifford gates - needed for recovery gate calculation"
   ]
  },
  {
   "cell_type": "code",
   "execution_count": null,
   "metadata": {
    "tags": []
   },
   "outputs": [],
   "source": [
    "def pauli(ind = 'x'):\n",
    "    \"\"\"pauli matrices\n",
    "    \"\"\"\n",
    "    if ind =='x':\n",
    "        res = np.array([[0,1], [1,0]])\n",
    "    if ind =='y':\n",
    "        res = np.array([[0,-1j], [1j,0]])\n",
    "    if ind =='z':\n",
    "        res = np.array([[1,0], [0,-1]])\n",
    "        \n",
    "    return res\n",
    "\n",
    "def rot_matrix(angle=np.pi, axis='x'):\n",
    "    \"\"\"general definition of rotation unitary for a single qubit\n",
    "    \"\"\"\n",
    "    return expm(-1j * angle / 2 * pauli(axis))\n",
    "\n",
    "def mult_gates(gates, use_linalg=False, tol=20):\n",
    "    \"\"\"multiply a variable number of gates / matrices - recursive definition faster for simple 2x2 matrices\n",
    "    \"\"\"\n",
    "    if len(gates) > 1:\n",
    "        if use_linalg:\n",
    "            res = np.linalg.multi_dot(gates)\n",
    "        else:\n",
    "            res = np.matmul(gates[0], mult_gates(gates[1:], use_linalg=False, tol=tol))\n",
    "    elif len(gates) == 1:\n",
    "        res = gates[0]\n",
    "    \n",
    "    return res.round(tol)\n",
    "\n",
    "# generate matrix representation of all Clifford gates from elementary gates\n",
    "elem_gates = {'I': np.array([[1,0],[0,1]]),\n",
    "              'X': rot_matrix(np.pi, 'x'),\n",
    "              'Y': rot_matrix(np.pi, 'y'),\n",
    "              'X/2': rot_matrix(np.pi / 2, 'x'),\n",
    "              'Y/2': rot_matrix(np.pi / 2, 'y'),\n",
    "              '-X/2': rot_matrix(-np.pi / 2, 'x'),\n",
    "              '-Y/2': rot_matrix(-np.pi / 2, 'y')}\n",
    "\n",
    "clifford_matrices = [[elem_gates[gate] for gate in gates] for gates in clifford_params]\n",
    "clifford_gates = [mult_gates(matrices) for matrices in clifford_matrices]\n",
    "\n",
    "def glob_phase(phase, dim=2):\n",
    "    \"\"\"global phase operator for dimensionality dim\n",
    "    \"\"\"\n",
    "    return np.exp(1j * phase) * np.identity(dim)\n",
    "\n",
    "def match_up_to_phase(target, gates, dim=2, verbose=False):\n",
    "    \"\"\"finds the element of the list gates that best matches the target gate up to a global phase of integer multiples of pi\n",
    "    \"\"\"\n",
    "    # set of global phase operators for integer multiples of pi\n",
    "    glob_phases = [glob_phase(0, dim), glob_phase(np.pi, dim)]\n",
    "    # gates up to global phases\n",
    "    gates_2 = [[mult_gates([gate1, gate2]) for gate2 in glob_phases] for gate1 in gates]\n",
    "    # index of gate that is closest to target up to global phase (using frobenius norm)\n",
    "    match_index = np.argmin([np.amin([np.linalg.norm(target - gate) for gate in gates]) for gates in gates_2])\n",
    "    \n",
    "    return match_index"
   ]
  },
  {
   "cell_type": "markdown",
   "metadata": {
    "tags": []
   },
   "source": [
    "#### function to calculate the last gate in the sequence - recovery gate which leads back to initial state (up to global phase)"
   ]
  },
  {
   "cell_type": "code",
   "execution_count": null,
   "metadata": {},
   "outputs": [],
   "source": [
    "def calculate_inverse_clifford(clifford_list, gates=clifford_gates):\n",
    "    \"\"\"Calculates the final recovery clifford gate\n",
    "\n",
    "    Parameters:\n",
    "    clifford_list: list\n",
    "        a list containing the indices of the clifford sequence to be inverted\n",
    "    gate: list\n",
    "        a list containing the gates to compare the recovery gate to\n",
    "    \"\"\"\n",
    "    # matrix representation of Clifford sequence\n",
    "    seq_gate = mult_gates([gates[gate] for gate in clifford_list])\n",
    "    # recovery gate - inverse of full sequence\n",
    "    rec_gate = np.linalg.inv(seq_gate)\n",
    "    # index of recovery gate (up to global phase)\n",
    "    recovery = int(match_up_to_phase(rec_gate, clifford_gates))\n",
    "    \n",
    "    return recovery"
   ]
  },
  {
   "cell_type": "markdown",
   "metadata": {
    "tags": []
   },
   "source": [
    "## connect to the AWG - here: signal played on first two channels, connected to dataserver via ethernet / usb"
   ]
  },
  {
   "cell_type": "code",
   "execution_count": null,
   "metadata": {},
   "outputs": [],
   "source": [
    "awg = HDAWG_Core(daq, dev_hd, awg_index=0, connect_type='1gbe')\n",
    "# awg = HDAWG_Core(daq, dev_hd, awg_index=0, connect_type='usb')"
   ]
  },
  {
   "cell_type": "markdown",
   "metadata": {
    "heading_collapsed": "true",
    "tags": []
   },
   "source": [
    "## Random command table approach\n",
    "\n",
    "This method determines each random RB sequence as a list of elements of the Clifford group each sequence contains, (not the full waveform) and uploads this sequence to the command table. seqC is uploaded and compiled only once, as is the waveform data.\n",
    "Limited to sequence length of 1024 elements, due to the size of the command table on the HD"
   ]
  },
  {
   "cell_type": "markdown",
   "metadata": {
    "tags": []
   },
   "source": [
    "#### function to generate a command table for each random sequence"
   ]
  },
  {
   "cell_type": "code",
   "execution_count": null,
   "metadata": {},
   "outputs": [],
   "source": [
    "def generate_ct_entry(i, gate):\n",
    "    return {\n",
    "              \"index\": i,\n",
    "              \"waveform\": {\n",
    "                 \"index\": gate,\n",
    "              }\n",
    "    }"
   ]
  },
  {
   "cell_type": "markdown",
   "metadata": {
    "tags": []
   },
   "source": [
    "#### define the seqC program as string"
   ]
  },
  {
   "cell_type": "code",
   "execution_count": null,
   "metadata": {},
   "outputs": [],
   "source": [
    "# how many averages / repetitions of each sequence\n",
    "num_Averages = 2**0\n",
    "\n",
    "# Waveform definition - allocating the waveform memory for the seqC program\n",
    "waveforms_def = \"\"\n",
    "for i,wave in enumerate(clifford_waves):\n",
    "    wave_len = len(wave)\n",
    "    waveforms_def += f\"assignWaveIndex(placeholder({wave_len:d}), placeholder({wave_len:d}), {i:d});\\n\"\n",
    "    \n",
    "# define register index for input of sequence length\n",
    "AWG_REGISTER_M = 0\n",
    "\n",
    "# define the seqC program as string\n",
    "hd_rb_program_0 = f\"\"\"\n",
    "//Waveforms definition\n",
    "{waveforms_def:s}\n",
    "\n",
    "//sequence length from user register\n",
    "var m = getUserReg({AWG_REGISTER_M:d});\n",
    "\n",
    "// send a trigger at start of sequence\n",
    "setTrigger(3);\n",
    "wait(5);\n",
    "setTrigger(0);\n",
    "\n",
    "repeat ({num_Averages}) {{\n",
    "    //Reset the oscillator phase\n",
    "    resetOscPhase();\n",
    "    wait(5);\n",
    "\n",
    "    //execute random sequence by stepping through the command table\n",
    "    var i;\n",
    "    for (i = 0; i < m; i++) {{\n",
    "      executeTableEntry(i);\n",
    "    }}\n",
    "}}\n",
    "\"\"\""
   ]
  },
  {
   "cell_type": "markdown",
   "metadata": {
    "tags": []
   },
   "source": [
    "#### configure the AWG, upload the seqC program and the waveform data"
   ]
  },
  {
   "cell_type": "code",
   "execution_count": null,
   "metadata": {},
   "outputs": [],
   "source": [
    "awg.config(hd_rb_program_0, waves=clifford_waves_real)\n",
    "\n",
    "# enable iq modulation or generate simple quadrature pulses for illustration\n",
    "awg.iq_modulation = True\n",
    "# set digital oscillator frequency to 15 MHz (IF)\n",
    "awg.set_frequency(freq=15000000, osc=0)"
   ]
  },
  {
   "cell_type": "markdown",
   "metadata": {
    "tags": []
   },
   "source": [
    "#### run RB with random sequences generated locally, and uploaded to device as command table"
   ]
  },
  {
   "cell_type": "code",
   "execution_count": null,
   "metadata": {
    "tags": [
     "outputPrepend"
    ]
   },
   "outputs": [],
   "source": [
    "# number of different sequence lengths\n",
    "n = 10\n",
    "# number of different random sequences per length\n",
    "k = 20\n",
    "\n",
    "# set the AWG to a known state\n",
    "awg.stop()\n",
    "\n",
    "start = time.perf_counter_ns()\n",
    "upload_time = []\n",
    "exec_time = []\n",
    "\n",
    "# iterate over sequence lengths\n",
    "for len_exp in range(1,n+1):\n",
    "    # define sequence length = 2^n\n",
    "    M = 2**len_exp\n",
    "    # HACK: command table length limited to 1024 entries\n",
    "    if M > 1023:\n",
    "        M = 1023\n",
    "\n",
    "    # iterate over different random sequences\n",
    "    for rand_i in range(k):\n",
    "        \n",
    "        exec_start = time.perf_counter_ns()\n",
    "        \n",
    "        # Generate a RB sequence as a sequence of random Clifford indices\n",
    "        gates_M1 = [random.randrange(0,24) for i in range(M)]\n",
    "        # find recovery gate\n",
    "        gate_M = calculate_inverse_clifford(gates_M1)\n",
    "        # full sequence\n",
    "        gates_M = gates_M1 + [gate_M]\n",
    "    \n",
    "        # generate command table correspoding to the reandom sequence\n",
    "        ct = [generate_ct_entry(i, gate) for i, gate in enumerate(gates_M)]\n",
    "        \n",
    "        up_start = time.perf_counter_ns()\n",
    "        \n",
    "        # upload command table to device\n",
    "        awg.load_ct(ct)\n",
    "        # tell AWG how many entries are in command table via user register\n",
    "        awg.setUserReg(AWG_REGISTER_M, M+1)\n",
    "        \n",
    "        upload_time.append(time.perf_counter_ns() - up_start)\n",
    "        \n",
    "        # Start the HDAWG AWG sequencer, wait for execution to end\n",
    "        awg.run(wait=True)\n",
    "        \n",
    "        exec_time.append(time.perf_counter_ns() - exec_start)\n",
    "\n",
    "tot_time = time.perf_counter_ns() - start\n",
    "\n",
    "upload_time = np.array(upload_time) * 1e-9\n",
    "exec_time = np.array(exec_time) * 1e-9\n",
    "\n",
    "print(f'Total time: {tot_time*1e-9:.3f}')\n",
    "print(f'Per iteration time: {tot_time/(k*n)*1e-9:.3f}s')"
   ]
  },
  {
   "cell_type": "code",
   "execution_count": null,
   "metadata": {},
   "outputs": [],
   "source": [
    "plt.plot(upload_time, 'r', label='upload time')\n",
    "plt.plot(exec_time, 'b', label='execution time')\n",
    "plt.legend()\n",
    "plt.show()"
   ]
  },
  {
   "cell_type": "markdown",
   "metadata": {
    "heading_collapsed": "true",
    "tags": []
   },
   "source": [
    "## PRNG approach\n",
    "\n",
    "For each random sequency, we transfer only a sequence length, a random seed and the index of the final recovery Clifford gate. seqC is uploaded and compiled only once. The command table contains all clifford gates and is set once at the start, together with waveform data.\n",
    "This program precalculates the RB sequence using a model of the HDAWGs PRNG and determines the correct recovery gate, but the HDAWG generates the random sequence locally. Sequence length can be up to 2**16 + 1 (limited by the possible internal states of the PRNG)"
   ]
  },
  {
   "cell_type": "markdown",
   "metadata": {
    "tags": []
   },
   "source": [
    "#### A computational representation of the PRNG on the HDAWG"
   ]
  },
  {
   "cell_type": "code",
   "execution_count": null,
   "metadata": {},
   "outputs": [],
   "source": [
    "class HDAWG_PRNG:\n",
    "    def __init__(self, seed=0xcafe, lower=0, upper=2**16-1):\n",
    "        self.lsfr = seed\n",
    "        self.lower = lower\n",
    "        self.upper = upper\n",
    "\n",
    "    def next(self):\n",
    "        lsb = self.lsfr & 1\n",
    "        self.lsfr = self.lsfr >> 1\n",
    "        if (lsb):\n",
    "            self.lsfr = 0xb400 ^ self.lsfr\n",
    "        rand = ((self.lsfr * (self.upper-self.lower+1) >> 16) + self.lower) & 0xffff\n",
    "        return rand"
   ]
  },
  {
   "cell_type": "markdown",
   "metadata": {
    "tags": []
   },
   "source": [
    "#### define the seqC program and the command table"
   ]
  },
  {
   "cell_type": "code",
   "execution_count": null,
   "metadata": {},
   "outputs": [],
   "source": [
    "# how many averages / repetitions of each sequence\n",
    "num_Averages = 2**0\n",
    "\n",
    "# Waveform definition - allocating the waveofmr memory for the seqC program\n",
    "waveforms_def = \"\"\n",
    "for i,wave in enumerate(clifford_waves):\n",
    "    wave_len = len(wave)\n",
    "    waveforms_def += f\"assignWaveIndex(placeholder({wave_len:d}), placeholder({wave_len:d}), {i:d});\\n\"\n",
    "    \n",
    "# define user registers that will be used in the seqC\n",
    "AWG_REGISTER_M1 = 0\n",
    "AWG_REGISTER_SEED = 1\n",
    "AWG_REGISTER_RECOVERY = 2\n",
    "AWG_REGISTER_START = 3\n",
    "\n",
    "# define the seqC program to be uploaded \n",
    "hd_rb_program_1 = f\"\"\"\n",
    "const CLIFFORD_LEN = 24;\n",
    "\n",
    "//Waveform definition\n",
    "{waveforms_def:s}\n",
    "\n",
    "// Runtime parameters, set by user registers:\n",
    "// sequence length\n",
    "var m1 = getUserReg({AWG_REGISTER_M1:d});\n",
    "// PRNG seed\n",
    "var seed = getUserReg({AWG_REGISTER_SEED:d});\n",
    "// recovery gate index\n",
    "var recovery = getUserReg({AWG_REGISTER_RECOVERY:d});\n",
    "\n",
    "//Configure the PRNG\n",
    "setPRNGSeed(seed);\n",
    "setPRNGRange(0, CLIFFORD_LEN);\n",
    "\n",
    "// trigger at start of each sequence\n",
    "setTrigger(1);\n",
    "wait(5);\n",
    "setTrigger(0);\n",
    "\n",
    "repeat ({num_Averages}) {{\n",
    "    //Reset the oscillator phase\n",
    "    resetOscPhase();\n",
    "    wait(5);\n",
    "\n",
    "    // (Pseudo) Random sequence of command table entries\n",
    "    repeat (m1) {{\n",
    "        var gate = getPRNGValue();\n",
    "        executeTableEntry(gate);\n",
    "    }}\n",
    "    // Final recovery gate\n",
    "    executeTableEntry(recovery);\n",
    "}}\n",
    "\"\"\"\n",
    "\n",
    "# define the ct table, where each element is just one of the Clifford gates\n",
    "ct = []\n",
    "for i in range(clifford_len):\n",
    "    entry = {\n",
    "              \"index\": i,\n",
    "              \"waveform\": {\n",
    "                 \"index\": i\n",
    "              }\n",
    "    }        \n",
    "    ct.append(entry)"
   ]
  },
  {
   "cell_type": "markdown",
   "metadata": {
    "tags": []
   },
   "source": [
    "#### configure the AWG, upload and compile the seqC program and upload the command table and waveform data"
   ]
  },
  {
   "cell_type": "code",
   "execution_count": null,
   "metadata": {},
   "outputs": [],
   "source": [
    "# awg = HDAWG_Core(daq, dev_hd, 0, connect_type = '1gbe')\n",
    "awg.config(hd_rb_program_1, ct=ct, waves=clifford_waves_real)\n",
    "\n",
    "# for demonstration purposes set IQ modulation to False, for real IQ pulses set to True\n",
    "awg.iq_modulation = True\n",
    "# set digital oscillator frequency to 15 MHz (IF)\n",
    "awg.set_frequency(freq=15000000, osc=0)"
   ]
  },
  {
   "cell_type": "markdown",
   "metadata": {
    "tags": []
   },
   "source": [
    "#### run Randomized Benchmarking with each random sequence generated on the HD itself"
   ]
  },
  {
   "cell_type": "code",
   "execution_count": null,
   "metadata": {
    "tags": []
   },
   "outputs": [],
   "source": [
    "# n different sequence lengths\n",
    "n = 10\n",
    "# k different random sequences per length\n",
    "k = 20\n",
    "\n",
    "# set the AWG to a known state\n",
    "awg.stop()\n",
    "\n",
    "start = time.perf_counter_ns()\n",
    "upload_time = []\n",
    "exec_time = []\n",
    "\n",
    "# iterate over sequence lengths\n",
    "for len_exp in range(1, n+1):\n",
    "    # length of sequence is 2**n\n",
    "    M = 2**len_exp\n",
    "    \n",
    "    # iterate over different random sequences\n",
    "    for rand_i in range(k):\n",
    "        \n",
    "        exec_start = time.perf_counter_ns()\n",
    "        \n",
    "        # generate random seed for the PRNG\n",
    "        seed = random.randrange(1, 2**16-1)\n",
    "        # use seed and PRNG model to determine gate sequence that will be played on AWG\n",
    "        prng = HDAWG_PRNG(seed=seed,lower=0,upper=clifford_len-1)\n",
    "        gates_M1 = [prng.next() for i in range(M)]\n",
    "        # calculate the recovery clifford gate\n",
    "        gate_M = calculate_inverse_clifford(gates_M1)\n",
    "        \n",
    "        up_start = time.perf_counter_ns()\n",
    "        \n",
    "        # set AWG registers to transmit information on \n",
    "        # - sequence length\n",
    "        # - PRNG seed\n",
    "        # - last clifford gate in sequence\n",
    "        registers = [\n",
    "            (AWG_REGISTER_M1, M),\n",
    "            (AWG_REGISTER_SEED, seed),\n",
    "            (AWG_REGISTER_RECOVERY, gate_M)\n",
    "        ]\n",
    "        awg.setUserRegisters(registers)\n",
    "        \n",
    "        upload_time.append(time.perf_counter_ns() - up_start)\n",
    "\n",
    "        # Start the HDAWG AWG sequencer, wait for execution to end\n",
    "        awg.run(wait=True)\n",
    "        \n",
    "        exec_time.append(time.perf_counter_ns() - exec_start)\n",
    "\n",
    "upload_time = np.array(upload_time) * 1e-9\n",
    "exec_time = np.array(exec_time) * 1e-9\n",
    "        \n",
    "tot_time = time.perf_counter_ns() - start\n",
    "print(f'Total time: {tot_time*1e-9:.3f}s')\n",
    "print(f'Per iteration time: {tot_time/(k*n)*1e-9:.3f}s')"
   ]
  },
  {
   "cell_type": "code",
   "execution_count": null,
   "metadata": {},
   "outputs": [],
   "source": [
    "plt.plot(upload_time, 'r', label='upload time')\n",
    "plt.plot(exec_time, 'b', label='execution time')\n",
    "plt.legend()\n",
    "plt.show()"
   ]
  },
  {
   "cell_type": "markdown",
   "metadata": {
    "heading_collapsed": "true",
    "tags": []
   },
   "source": [
    "## Traditional methods - upload the full sequence"
   ]
  },
  {
   "cell_type": "markdown",
   "metadata": {
    "tags": []
   },
   "source": [
    "#### generate full two-channel waveform from Clifford definition - including digital modulation, if required"
   ]
  },
  {
   "cell_type": "code",
   "execution_count": null,
   "metadata": {},
   "outputs": [],
   "source": [
    "def generate_wave(clifford_sequence, freq=10e6, iq_modulation=True, pad_zero=None, sample_rate=2.4e9):\n",
    "    # wave_real - zero for Y-pulse, non-zero for X-pulse - negative amplitude flips by pi\n",
    "    wave_real = np.concatenate([clifford_waves_real[i][0] for i in clifford_sequence])\n",
    "    # wave_imag - zero for X-pulse, non-zero for Y-pulse - negative amplitude flips by pi\n",
    "    wave_imag = np.concatenate([clifford_waves_real[i][1] for i in clifford_sequence])\n",
    "    \n",
    "    if pad_zero is not None:\n",
    "        pad_len = pad_zero - wave_real.size\n",
    "        if pad_len > 0:\n",
    "            wave_real = np.pad(wave_real, (0, pad_len), 'constant', constant_values=0)\n",
    "            wave_imag = np.pad(wave_imag, (0, pad_len), 'constant', constant_values=0)\n",
    "    \n",
    "    wave_len = wave_real.size\n",
    "        \n",
    "    if iq_modulation:\n",
    "        wave_time = wave_len / sample_rate\n",
    "        wave_sin = np.sin(2 * np.pi * freq * np.linspace(0, wave_time, wave_len))\n",
    "        wave_cos = np.cos(2 * np.pi * freq * np.linspace(0, wave_time, wave_len))\n",
    "        # X-pulse: sin on I, cos on Q / Y-pulse: -cos on I, sin on Q\n",
    "        wave_I = wave_sin * wave_real + wave_cos * wave_imag\n",
    "        wave_Q = -wave_cos * wave_real + wave_sin * wave_imag\n",
    "    else:\n",
    "        wave_I = wave_real\n",
    "        wave_Q = wave_imag\n",
    "        \n",
    "    return [(wave_I, wave_Q)]    "
   ]
  },
  {
   "cell_type": "code",
   "execution_count": null,
   "metadata": {},
   "outputs": [],
   "source": [
    "## test of wave generating code\n",
    "\n",
    "m=4\n",
    "# Generate a RB sequence as a sequence of random Clifford indices\n",
    "gates_m1 = [random.randrange(0,24) for i in range(m)]\n",
    "# find recovery gate\n",
    "gate_m = calculate_inverse_clifford(gates_m1)\n",
    "# full sequence\n",
    "gates_m = gates_m1 + [gate_m]\n",
    "\n",
    "test_wave0 = generate_wave(gates_m, iq_modulation=False, pad_zero=8000)\n",
    "plt.plot(test_wave0[0][0])\n",
    "plt.plot(test_wave0[0][1])\n",
    "plt.show()\n",
    "\n",
    "test_wave1 = generate_wave(gates_m, iq_modulation=True, pad_zero=8000)\n",
    "plt.plot(test_wave1[0][0])\n",
    "plt.plot(test_wave1[0][1])\n",
    "plt.show()"
   ]
  },
  {
   "cell_type": "markdown",
   "metadata": {
    "tags": []
   },
   "source": [
    "#### single entry command table - only employed for simplicity of the seqC program"
   ]
  },
  {
   "cell_type": "code",
   "execution_count": null,
   "metadata": {},
   "outputs": [],
   "source": [
    "ct_simple = [{\n",
    "              \"index\": 0,\n",
    "              \"waveform\": {\n",
    "                 \"index\": 0,\n",
    "              }\n",
    "            }]"
   ]
  },
  {
   "cell_type": "markdown",
   "metadata": {
    "tags": []
   },
   "source": [
    "#### define the seqC program as string, with length of waveform as parameter"
   ]
  },
  {
   "cell_type": "code",
   "execution_count": null,
   "metadata": {},
   "outputs": [],
   "source": [
    "# number of averages / repetitions\n",
    "num_Averages = 2**0\n",
    "\n",
    "# define the seqC program as string\n",
    "def hd_rb_program_2(wave_len, num_Averages=num_Averages): \n",
    "    res = f\"\"\"\n",
    "    //Waveform definition - single, two-channel waveform\n",
    "    assignWaveIndex(placeholder({wave_len:d}), placeholder({wave_len:d}), 0);\n",
    "\n",
    "    // send a trigger at start of sequence\n",
    "    setTrigger(3);\n",
    "    wait(5);\n",
    "    setTrigger(0);\n",
    "    \n",
    "    repeat ({num_Averages}) {{\n",
    "        //Reset the oscillator phase\n",
    "        resetOscPhase();\n",
    "        wait(5);\n",
    "\n",
    "        //execute random sequence from single command table entry\n",
    "        executeTableEntry(0);\n",
    "    }}\n",
    "    \"\"\"\n",
    "\n",
    "    return res"
   ]
  },
  {
   "cell_type": "markdown",
   "metadata": {
    "tags": []
   },
   "source": [
    "### pre-generate and upload full waveform including modulation - variable waveform length, requiring recompilation at every step"
   ]
  },
  {
   "cell_type": "code",
   "execution_count": null,
   "metadata": {
    "tags": [
     "outputPrepend"
    ]
   },
   "outputs": [],
   "source": [
    "# number of different sequence lengths\n",
    "n = 10\n",
    "# number of different random sequences per length\n",
    "k = 20\n",
    "# include IQ_modulation?\n",
    "iq_modulation = True\n",
    "freq = 10e6\n",
    "\n",
    "# set the AWG to a known state\n",
    "awg.stop()\n",
    "\n",
    "# start = time.time()\n",
    "start = time.perf_counter_ns()\n",
    "upload_time = []\n",
    "exec_time = []\n",
    "\n",
    "# iterate over sequence lengths\n",
    "for len_exp in range(1,n+1):\n",
    "    # define sequence length = 2^n\n",
    "    M = 2**len_exp\n",
    "\n",
    "    # iterate over different random sequences\n",
    "    for rand_i in range(k):\n",
    "        \n",
    "        exec_start = time.perf_counter_ns()\n",
    "        \n",
    "        # Generate a RB sequence as a sequence of random Clifford indices\n",
    "        gates_M1 = [random.randrange(0,24) for i in range(M)]\n",
    "        # find recovery gate\n",
    "        gate_M = calculate_inverse_clifford(gates_M1)\n",
    "        # full sequence\n",
    "        gates_M = gates_M1 + [gate_M]\n",
    "        \n",
    "        wave_all = generate_wave(gates_M, freq=freq, iq_modulation=iq_modulation)\n",
    "        wave_len = wave_all[0][0].size\n",
    "        \n",
    "        up_start = time.perf_counter_ns()\n",
    "        \n",
    "        # upload and compile seqC, waveform and command table\n",
    "        awg.config(hd_rb_program_2(wave_len), waves=wave_all, ct=ct_simple)\n",
    "                \n",
    "        upload_time.append(time.perf_counter_ns() - up_start)\n",
    "        \n",
    "        # Start the HDAWG AWG sequencer, wait for execution to end\n",
    "        awg.run(wait=True)\n",
    "        \n",
    "        exec_time.append(time.perf_counter_ns() - exec_start)\n",
    "\n",
    "tot_time = time.perf_counter_ns() - start\n",
    "\n",
    "upload_time = np.array(upload_time) * 1e-9\n",
    "exec_time = np.array(exec_time) * 1e-9\n",
    "\n",
    "print(f'Total time: {tot_time*1e-9:.3f}s')\n",
    "print(f'Per iteration time: {tot_time/(k*n)*1e-9:.3f}s')"
   ]
  },
  {
   "cell_type": "code",
   "execution_count": null,
   "metadata": {},
   "outputs": [],
   "source": [
    "plt.plot(upload_time, 'r', label='upload time')\n",
    "plt.plot(exec_time, 'b', label='execution time')\n",
    "plt.legend()\n",
    "plt.show()"
   ]
  },
  {
   "cell_type": "markdown",
   "metadata": {
    "tags": []
   },
   "source": [
    "### pre-generate and upload full waveform including modulation - preallocate max waveform length, recompilation required for every sequence length"
   ]
  },
  {
   "cell_type": "code",
   "execution_count": null,
   "metadata": {
    "tags": [
     "outputPrepend"
    ]
   },
   "outputs": [],
   "source": [
    "# number of different sequence lengths\n",
    "n = 10\n",
    "# number of different random sequences per length\n",
    "k = 20\n",
    "# include IQ_modulation?\n",
    "iq_modulation = True\n",
    "freq = 15e6\n",
    "\n",
    "# length of single gate in samples\n",
    "pulse_len = round(2.4e9 * pi_length / 16) * 16\n",
    "\n",
    "# set the AWG to a known state\n",
    "awg.stop()\n",
    "\n",
    "# start = time.time()\n",
    "start = time.perf_counter_ns()\n",
    "upload_time = []\n",
    "exec_time = []\n",
    "\n",
    "# iterate over sequence lengths\n",
    "for len_exp in range(1,n+1):\n",
    "    # define sequence length = 2^n\n",
    "    M = 2**len_exp\n",
    "\n",
    "    # waveform is preallocated with maximum possible length for given sequence length \n",
    "    wave_len = (M + 1) * 3 * pulse_len\n",
    "    \n",
    "    # upload and compile seqC and command table\n",
    "    awg.config(hd_rb_program_2(wave_len))\n",
    "    awg.load_ct(ct=ct_simple)\n",
    "    \n",
    "    # iterate over different random sequences\n",
    "    for rand_i in range(k):\n",
    "        \n",
    "        exec_start = time.perf_counter_ns()\n",
    "        \n",
    "        # Generate a RB sequence as a sequence of random Clifford indices\n",
    "        gates_M1 = [random.randrange(0,24) for i in range(M)]\n",
    "        # find recovery gate\n",
    "        gate_M = calculate_inverse_clifford(gates_M1)\n",
    "        # full sequence\n",
    "        gates_M = gates_M1 + [gate_M]\n",
    "        \n",
    "        # generate waveform, pad with zeros to max length\n",
    "        wave_all = generate_wave(gates_M, freq=freq, iq_modulation=iq_modulation, pad_zero=wave_len)\n",
    "        \n",
    "        up_start = time.perf_counter_ns()\n",
    "        \n",
    "        # upload waveform\n",
    "        awg.load_waves(waves=wave_all)\n",
    "                        \n",
    "        upload_time.append(time.perf_counter_ns() - up_start)\n",
    "        \n",
    "        # Start the HDAWG AWG sequencer, wait for execution to end\n",
    "        awg.run(wait=True)\n",
    "        \n",
    "        exec_time.append(time.perf_counter_ns() - exec_start)\n",
    "\n",
    "tot_time = time.perf_counter_ns() - start\n",
    "\n",
    "upload_time = np.array(upload_time) * 1e-9\n",
    "exec_time = np.array(exec_time) * 1e-9\n",
    "\n",
    "print(f'Total time: {tot_time*1e-9:.3f}')\n",
    "print(f'Per iteration time: {tot_time/(k*n)*1e-9:.3f}s')"
   ]
  },
  {
   "cell_type": "code",
   "execution_count": null,
   "metadata": {},
   "outputs": [],
   "source": [
    "plt.plot(upload_time, 'r', label='upload time')\n",
    "plt.plot(exec_time, 'b', label='execution time')\n",
    "plt.legend()\n",
    "plt.show()"
   ]
  },
  {
   "cell_type": "markdown",
   "metadata": {
    "tags": []
   },
   "source": [
    "### pre-generate and upload full waveform including modulation - preallocate max waveform length for all sequences, no recompilation required"
   ]
  },
  {
   "cell_type": "code",
   "execution_count": null,
   "metadata": {
    "tags": [
     "outputPrepend"
    ]
   },
   "outputs": [],
   "source": [
    "# number of different sequence lengths\n",
    "n = 10\n",
    "# number of different random sequences per length\n",
    "k = 20\n",
    "# include IQ_modulation?\n",
    "iq_modulation = True\n",
    "freq = 10e6\n",
    "\n",
    "# length of single gate in samples\n",
    "pulse_len = round(2.4e9 * pi_length / 16) * 16\n",
    "\n",
    "# set the AWG to a known state\n",
    "awg.stop()\n",
    "\n",
    "# start = time.time()\n",
    "start = time.perf_counter_ns()\n",
    "upload_time = []\n",
    "exec_time = []\n",
    "\n",
    "# waveform is preallocated with maximum possible length for all sequence lengths \n",
    "wave_len = (2**n + 1) * 3 * pulse_len\n",
    "\n",
    "# upload and compile seqC and command table\n",
    "awg.config(hd_rb_program_2(wave_len))\n",
    "awg.load_ct(ct=ct_simple)\n",
    "\n",
    "# iterate over sequence lengths\n",
    "for len_exp in range(1, n+1):\n",
    "    # define sequence length = 2^n\n",
    "    M = 2**len_exp\n",
    "\n",
    "    # iterate over different random sequences\n",
    "    for rand_i in range(k):\n",
    "        \n",
    "        exec_start = time.perf_counter_ns()\n",
    "        \n",
    "        # Generate a RB sequence as a sequence of random Clifford indices\n",
    "        gates_M1 = [random.randrange(0,24) for i in range(M)]\n",
    "        # find recovery gate\n",
    "        gate_M = calculate_inverse_clifford(gates_M1)\n",
    "        # full sequence\n",
    "        gates_M = gates_M1 + [gate_M]\n",
    "        \n",
    "        # generate waveform, pad with zeros to max length\n",
    "        wave_all = generate_wave(gates_M, freq=freq, iq_modulation=iq_modulation, pad_zero=wave_len)\n",
    "        \n",
    "        up_start = time.perf_counter_ns()\n",
    "        \n",
    "        # upload waveform\n",
    "        awg.load_waves(waves=wave_all)\n",
    "                        \n",
    "        upload_time.append(time.perf_counter_ns() - up_start)\n",
    "        \n",
    "        # Start the HDAWG AWG sequencer, wait for execution to end\n",
    "        awg.run(wait=True)\n",
    "        \n",
    "        exec_time.append(time.perf_counter_ns() - exec_start)\n",
    "\n",
    "tot_time = time.perf_counter_ns() - start\n",
    "\n",
    "upload_time = np.array(upload_time) * 1e-9\n",
    "exec_time = np.array(exec_time) * 1e-9\n",
    "\n",
    "print(f'Total time: {tot_time*1e-9:.3f}')\n",
    "print(f'Per iteration time: {tot_time/(k*n)*1e-9:.3f}s')"
   ]
  },
  {
   "cell_type": "code",
   "execution_count": null,
   "metadata": {},
   "outputs": [],
   "source": [
    "plt.plot(upload_time, 'r', label='upload time')\n",
    "plt.plot(exec_time, 'b', label='execution time')\n",
    "plt.legend()\n",
    "plt.show()"
   ]
  },
  {
   "cell_type": "code",
   "execution_count": null,
   "metadata": {},
   "outputs": [],
   "source": []
  }
 ],
 "metadata": {
  "kernelspec": {
   "display_name": "Python 3",
   "language": "python",
   "name": "python3"
  },
  "language_info": {
   "codemirror_mode": {
    "name": "ipython",
    "version": 3
   },
   "file_extension": ".py",
   "mimetype": "text/x-python",
   "name": "python",
   "nbconvert_exporter": "python",
   "pygments_lexer": "ipython3",
   "version": "3.9.4"
  }
 },
 "nbformat": 4,
 "nbformat_minor": 4
}
